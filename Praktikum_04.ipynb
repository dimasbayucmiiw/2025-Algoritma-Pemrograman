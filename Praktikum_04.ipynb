{
  "nbformat": 4,
  "nbformat_minor": 0,
  "metadata": {
    "colab": {
      "provenance": [],
      "authorship_tag": "ABX9TyPTuayuLAFAtrp8OTIBGhKL",
      "include_colab_link": true
    },
    "kernelspec": {
      "name": "python3",
      "display_name": "Python 3"
    },
    "language_info": {
      "name": "python"
    }
  },
  "cells": [
    {
      "cell_type": "markdown",
      "metadata": {
        "id": "view-in-github",
        "colab_type": "text"
      },
      "source": [
        "<a href=\"https://colab.research.google.com/github/dimasbayucmiiw/2025-Algoritma-Pemrograman/blob/main/Praktikum_04.ipynb\" target=\"_parent\"><img src=\"https://colab.research.google.com/assets/colab-badge.svg\" alt=\"Open In Colab\"/></a>"
      ]
    },
    {
      "cell_type": "markdown",
      "source": [
        "Praktikum"
      ],
      "metadata": {
        "id": "sB2FHl7nkXGz"
      }
    },
    {
      "cell_type": "markdown",
      "source": [
        "Perulangan For"
      ],
      "metadata": {
        "id": "fqGM4pNNkZn4"
      }
    },
    {
      "cell_type": "code",
      "execution_count": null,
      "metadata": {
        "colab": {
          "base_uri": "https://localhost:8080/"
        },
        "id": "UQ-9yZ1djf6l",
        "outputId": "8a14f847-7f50-4653-bf0a-9bd21c26e3d0"
      },
      "outputs": [
        {
          "output_type": "stream",
          "name": "stdout",
          "text": [
            "1\n",
            "2\n",
            "3\n",
            "4\n",
            "5\n"
          ]
        }
      ],
      "source": [
        "for i in range(1,6):\n",
        "    print(i)"
      ]
    },
    {
      "cell_type": "markdown",
      "source": [
        "Perulangan While"
      ],
      "metadata": {
        "id": "p0zphs657qtG"
      }
    },
    {
      "cell_type": "code",
      "source": [
        "n = int(input(\"Masukkan angka:\"))\n",
        "while n > 0:\n",
        "    print(n)\n",
        "    n-=1"
      ],
      "metadata": {
        "colab": {
          "base_uri": "https://localhost:8080/"
        },
        "id": "vMv_MH127xLx",
        "outputId": "dfbc44ed-3dd6-47ef-af79-93b2a1f9ab7e"
      },
      "execution_count": null,
      "outputs": [
        {
          "output_type": "stream",
          "name": "stdout",
          "text": [
            "Masukkan angka:5\n",
            "5\n",
            "4\n",
            "3\n",
            "2\n",
            "1\n"
          ]
        }
      ]
    },
    {
      "cell_type": "markdown",
      "source": [
        "Nested Loop (Segitiga Bintang)"
      ],
      "metadata": {
        "id": "6MUK7BYu7-ng"
      }
    },
    {
      "cell_type": "code",
      "source": [
        "for i in range (1,5):\n",
        "    for j in range (i):\n",
        "      print(\"*\", end=\"\")\n",
        "    print()"
      ],
      "metadata": {
        "colab": {
          "base_uri": "https://localhost:8080/"
        },
        "id": "ktRhVlPn8DC1",
        "outputId": "25bc949c-6c72-4b21-b446-48867a990019"
      },
      "execution_count": null,
      "outputs": [
        {
          "output_type": "stream",
          "name": "stdout",
          "text": [
            "*\n",
            "**\n",
            "***\n",
            "****\n"
          ]
        }
      ]
    },
    {
      "cell_type": "markdown",
      "source": [
        "Break"
      ],
      "metadata": {
        "id": "9NrNbn9o8YYI"
      }
    },
    {
      "cell_type": "code",
      "source": [
        "for i in range (1,10):\n",
        "    if i == 5:\n",
        "      print(\"Angka 5 ditemukan\")\n",
        "      break"
      ],
      "metadata": {
        "colab": {
          "base_uri": "https://localhost:8080/"
        },
        "id": "Ypm3B3jb8cbp",
        "outputId": "ac219ea9-dbfd-4e89-cffb-b6250e6eed47"
      },
      "execution_count": null,
      "outputs": [
        {
          "output_type": "stream",
          "name": "stdout",
          "text": [
            "Angka 5 ditemukan\n"
          ]
        }
      ]
    },
    {
      "cell_type": "markdown",
      "source": [
        "Continue"
      ],
      "metadata": {
        "id": "IHIeZ1l08xuC"
      }
    },
    {
      "cell_type": "code",
      "source": [
        "for i in range(1,5):\n",
        "    if i % 2 == 1:\n",
        "      continue\n",
        "    print(i)"
      ],
      "metadata": {
        "colab": {
          "base_uri": "https://localhost:8080/"
        },
        "id": "aTB36Hso80W0",
        "outputId": "1c10ba9f-eb91-41d5-f3b7-9474e579110d"
      },
      "execution_count": null,
      "outputs": [
        {
          "output_type": "stream",
          "name": "stdout",
          "text": [
            "2\n",
            "4\n"
          ]
        }
      ]
    },
    {
      "cell_type": "markdown",
      "source": [
        "For pada Dictionary"
      ],
      "metadata": {
        "id": "8lNFypnq9IO4"
      }
    },
    {
      "cell_type": "code",
      "source": [
        "data = {\"Nama\": \"Andi\",\"Umur\":20,\"Prodi\":\"TRK\"}\n",
        "for k, v in data.items():\n",
        "  print(k,\":\",v)"
      ],
      "metadata": {
        "colab": {
          "base_uri": "https://localhost:8080/"
        },
        "id": "oOvHb3_09MEV",
        "outputId": "fab60348-dff8-4a52-8b83-4a8fd2c60a6f"
      },
      "execution_count": null,
      "outputs": [
        {
          "output_type": "stream",
          "name": "stdout",
          "text": [
            "Nama : Andi\n",
            "Umur : 20\n",
            "Prodi : TRK\n"
          ]
        }
      ]
    },
    {
      "cell_type": "markdown",
      "source": [
        "For dengan Enumerate"
      ],
      "metadata": {
        "id": "TbK7ffX49fuP"
      }
    },
    {
      "cell_type": "code",
      "source": [
        "daftar =[\"Andi\", \"Budi\", \"Cici\"]\n",
        "for i, nama in enumerate(daftar, start=1):\n",
        "  print(i,nama)"
      ],
      "metadata": {
        "colab": {
          "base_uri": "https://localhost:8080/"
        },
        "id": "R2pYlje59jjO",
        "outputId": "0b4a6ff8-081f-4afe-c7d2-37dcd9325e2c"
      },
      "execution_count": null,
      "outputs": [
        {
          "output_type": "stream",
          "name": "stdout",
          "text": [
            "1 Andi\n",
            "2 Budi\n",
            "3 Cici\n"
          ]
        }
      ]
    },
    {
      "cell_type": "markdown",
      "source": [
        "Kasir Multi-Item"
      ],
      "metadata": {
        "id": "UHsYBOC094SO"
      }
    },
    {
      "cell_type": "code",
      "source": [
        "total = 0\n",
        "while True:\n",
        "  barang = input(\"Masukkan nama barang(ketik 'selesai' untuk berhenti):\")\n",
        "  if barang.lower() == \"selesai\":\n",
        "    break\n",
        "  harga = float(input(f\"Masukkan harga {barang}:\"))\n",
        "  jumlah = int(input(f\"Masukkan jumlah {barang}\"))\n",
        "  subtotal = harga * jumlah\n",
        "  total += subtotal\n",
        "print(\"\\n===== Struk Belanja =====\")\n",
        "print(f\"Total Belanja : Rp {total}\")"
      ],
      "metadata": {
        "colab": {
          "base_uri": "https://localhost:8080/"
        },
        "id": "UFD-FOH7976b",
        "outputId": "b070d013-8e44-41fa-912c-ea5e2e4eb391"
      },
      "execution_count": null,
      "outputs": [
        {
          "output_type": "stream",
          "name": "stdout",
          "text": [
            "Masukkan nama barang(ketik 'selesai' untuk berhenti):Buku\n",
            "Masukkan harga Buku:50000\n",
            "Masukkan jumlah Buku2\n",
            "Masukkan nama barang(ketik 'selesai' untuk berhenti):Pulpen\n",
            "Masukkan harga Pulpen:5000\n",
            "Masukkan jumlah Pulpen3\n",
            "Masukkan nama barang(ketik 'selesai' untuk berhenti):selesai\n",
            "\n",
            "===== Struk Belanja =====\n",
            "Total Belanja : Rp 115000.0\n"
          ]
        }
      ]
    },
    {
      "cell_type": "markdown",
      "source": [
        "Penugasan"
      ],
      "metadata": {
        "id": "srhseKC-BSWZ"
      }
    },
    {
      "cell_type": "markdown",
      "source": [
        "Menampilkan Deret Angka"
      ],
      "metadata": {
        "id": "Yn9lkQodBTzK"
      }
    },
    {
      "cell_type": "code",
      "source": [
        "for i in range (3,31,3):\n",
        "  print(i)"
      ],
      "metadata": {
        "id": "APLbrbwjBYeu",
        "colab": {
          "base_uri": "https://localhost:8080/"
        },
        "outputId": "42a3507f-3ea3-4158-9011-4f2cf248cd2e"
      },
      "execution_count": null,
      "outputs": [
        {
          "output_type": "stream",
          "name": "stdout",
          "text": [
            "3\n",
            "6\n",
            "9\n",
            "12\n",
            "15\n",
            "18\n",
            "21\n",
            "24\n",
            "27\n",
            "30\n"
          ]
        }
      ]
    },
    {
      "cell_type": "markdown",
      "source": [
        "Hitung Faktorial"
      ],
      "metadata": {
        "id": "s_RuS--ngsWV"
      }
    },
    {
      "cell_type": "code",
      "source": [
        "n = int(input(\"Masukkan bilangan:\"))\n",
        "faktorial = 1\n",
        "i = 1\n",
        "while i <= n:\n",
        "  faktorial *= i\n",
        "  i += 1\n",
        "print(f\"Faktorial dari {n} adalah {faktorial}\")"
      ],
      "metadata": {
        "colab": {
          "base_uri": "https://localhost:8080/"
        },
        "id": "1Fn1LHTfgvcF",
        "outputId": "275b0dfd-7209-45c2-c77c-1ed8bd8d9e72"
      },
      "execution_count": 1,
      "outputs": [
        {
          "output_type": "stream",
          "name": "stdout",
          "text": [
            "Masukkan bilangan:5\n",
            "Faktorial dari 5 adalah 120\n"
          ]
        }
      ]
    },
    {
      "cell_type": "markdown",
      "source": [
        "Pola Segitiga Terbalik"
      ],
      "metadata": {
        "id": "ME0ybVyshQ8z"
      }
    },
    {
      "cell_type": "code",
      "source": [
        "for i in range(5,0,-1):\n",
        "  for j in range(i):\n",
        "    print(\"*\", end=\"\")\n",
        "  print()"
      ],
      "metadata": {
        "colab": {
          "base_uri": "https://localhost:8080/"
        },
        "id": "38k2pDy9hT1Z",
        "outputId": "1f591fec-2656-4be2-c5ff-093ef159eda1"
      },
      "execution_count": null,
      "outputs": [
        {
          "output_type": "stream",
          "name": "stdout",
          "text": [
            "*****\n",
            "****\n",
            "***\n",
            "**\n",
            "*\n"
          ]
        }
      ]
    },
    {
      "cell_type": "markdown",
      "source": [
        "Cari Bilangan Prima dengan Break"
      ],
      "metadata": {
        "id": "9d5h-iQ0hfLN"
      }
    },
    {
      "cell_type": "code",
      "source": [
        "n = int(input(\"Masukkan bilangan:\"))\n",
        "if n > 1:\n",
        "  for i in range(2,n):\n",
        "    if n % i == 0:\n",
        "      print(f\"{n} bukan bilangan prima (habis dibagi {i})\")\n",
        "      break\n",
        "  else:\n",
        "    print(f\"{n} adalah bilanga prima\")\n",
        "else:\n",
        "  print(f\"{n} bukan bilangan prima\")"
      ],
      "metadata": {
        "colab": {
          "base_uri": "https://localhost:8080/"
        },
        "id": "5KV-DMR1hlRi",
        "outputId": "0fb5aa43-2c04-46c9-9b88-0baa82c2ef0e"
      },
      "execution_count": 2,
      "outputs": [
        {
          "output_type": "stream",
          "name": "stdout",
          "text": [
            "Masukkan bilangan:2\n",
            "2 adalah bilanga prima\n"
          ]
        }
      ]
    },
    {
      "cell_type": "markdown",
      "source": [
        "Tampilkan Hanya Bilangan Genap dengan Continue"
      ],
      "metadata": {
        "id": "kWI3kj12iGw6"
      }
    },
    {
      "cell_type": "code",
      "source": [
        "for i in range(1,21):\n",
        "  if i % 2 != 0:\n",
        "    continue\n",
        "  print(i)"
      ],
      "metadata": {
        "colab": {
          "base_uri": "https://localhost:8080/"
        },
        "id": "QOYEOJYKif3Q",
        "outputId": "d1094455-4586-4313-bd02-9b170ca59e86"
      },
      "execution_count": null,
      "outputs": [
        {
          "output_type": "stream",
          "name": "stdout",
          "text": [
            "2\n",
            "4\n",
            "6\n",
            "8\n",
            "10\n",
            "12\n",
            "14\n",
            "16\n",
            "18\n",
            "20\n"
          ]
        }
      ]
    },
    {
      "cell_type": "markdown",
      "source": [
        "Iterasi Dictionary Mahasiswa"
      ],
      "metadata": {
        "id": "6u8BpyULis51"
      }
    },
    {
      "cell_type": "code",
      "source": [
        "mahasiswa = {\"Nama\": \"Budi\",\"Umur\":21,\"Prodi\":\"Teknik Komputer\"}\n",
        "for k,v in mahasiswa.items():\n",
        "  print(f\"{k} : {v}\")"
      ],
      "metadata": {
        "colab": {
          "base_uri": "https://localhost:8080/"
        },
        "id": "fMyl9HSsixJB",
        "outputId": "a54f8a1f-0acc-4558-f8af-420a7e3faaa7"
      },
      "execution_count": null,
      "outputs": [
        {
          "output_type": "stream",
          "name": "stdout",
          "text": [
            "Nama : Budi\n",
            "Umur : 21\n",
            "Prodi : Teknik Komputer\n"
          ]
        }
      ]
    },
    {
      "cell_type": "markdown",
      "source": [
        "Enumerate Daftar Barang"
      ],
      "metadata": {
        "id": "KOfTv9f9jMKk"
      }
    },
    {
      "cell_type": "code",
      "source": [
        "barang = [\"Buku\",\"Pensil\",\"Tas\"]\n",
        "for i, item in enumerate(barang, start=1):\n",
        "  print(f\"{i} {item}\")"
      ],
      "metadata": {
        "colab": {
          "base_uri": "https://localhost:8080/"
        },
        "id": "ChgtA9aQjQ2I",
        "outputId": "6198bbbd-0940-4cc4-bed7-d6310cfb1e09"
      },
      "execution_count": null,
      "outputs": [
        {
          "output_type": "stream",
          "name": "stdout",
          "text": [
            "1 Buku\n",
            "2 Pensil\n",
            "3 Tas\n"
          ]
        }
      ]
    },
    {
      "cell_type": "markdown",
      "source": [
        "Studi Kasus-Kasir Diskon"
      ],
      "metadata": {
        "id": "neqVk_sxjlOv"
      }
    },
    {
      "cell_type": "code",
      "source": [
        "total = 0\n",
        "while True:\n",
        "  barang = input(\"Masukkan nama barang(ketik 'selesai' untuk berhenti):\")\n",
        "  if barang.lower() == \"selesai\":\n",
        "    break\n",
        "  harga = float(input(f\"Masukkan harga {barang}: Rp \"))\n",
        "  jumlah = int(input(f\"Masukkan jumlah {barang}:\"))\n",
        "  total += harga * jumlah\n",
        "if total >= 200000:\n",
        "    diskon = total * 0.1\n",
        "    total -= diskon\n",
        "    print(f\"\\nDiskon 10% diterapkan: Rp {diskon}\")\n",
        "else:\n",
        "    print(\"\\nTidak ada diskon.\")\n",
        "\n",
        "print(\"\\n===== Struk Belanja =====\")\n",
        "print(f\"Total Bayar : Rp {total}\")"
      ],
      "metadata": {
        "colab": {
          "base_uri": "https://localhost:8080/"
        },
        "id": "z1Yl8525jp9U",
        "outputId": "2df0b378-4e67-43c7-bfb5-ef97fadaf3d1"
      },
      "execution_count": null,
      "outputs": [
        {
          "output_type": "stream",
          "name": "stdout",
          "text": [
            "Masukkan nama barang(ketik 'selesai' untuk berhenti):Tas\n",
            "Masukkan harga Tas: Rp 120000\n",
            "Masukkan jumlah Tas:2\n",
            "Masukkan nama barang(ketik 'selesai' untuk berhenti):Sepatu\n",
            "Masukkan harga Sepatu: Rp 300000\n",
            "Masukkan jumlah Sepatu:3\n",
            "Masukkan nama barang(ketik 'selesai' untuk berhenti):selesai\n",
            "\n",
            "Diskon 10% diterapkan: Rp 114000.0\n",
            "\n",
            "===== Struk Belanja =====\n",
            "Total Bayar : Rp 1026000.0\n"
          ]
        }
      ]
    }
  ]
}