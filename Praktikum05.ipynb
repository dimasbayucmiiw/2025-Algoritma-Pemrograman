{
  "nbformat": 4,
  "nbformat_minor": 0,
  "metadata": {
    "colab": {
      "provenance": [],
      "authorship_tag": "ABX9TyPfY1BERfTTDt8huNyafSna",
      "include_colab_link": true
    },
    "kernelspec": {
      "name": "python3",
      "display_name": "Python 3"
    },
    "language_info": {
      "name": "python"
    }
  },
  "cells": [
    {
      "cell_type": "markdown",
      "metadata": {
        "id": "view-in-github",
        "colab_type": "text"
      },
      "source": [
        "<a href=\"https://colab.research.google.com/github/dimasbayucmiiw/2025-Algoritma-Pemrograman/blob/main/Praktikum05.ipynb\" target=\"_parent\"><img src=\"https://colab.research.google.com/assets/colab-badge.svg\" alt=\"Open In Colab\"/></a>"
      ]
    },
    {
      "cell_type": "markdown",
      "source": [
        "Praktikum"
      ],
      "metadata": {
        "id": "tb5VdflYpdTK"
      }
    },
    {
      "cell_type": "markdown",
      "source": [
        "Indexing dan Slicing"
      ],
      "metadata": {
        "id": "3miygfaxE2FW"
      }
    },
    {
      "cell_type": "code",
      "execution_count": null,
      "metadata": {
        "id": "xrcAJlNGoibr",
        "colab": {
          "base_uri": "https://localhost:8080/"
        },
        "outputId": "f10b9ab0-807a-411a-cec0-bfc4b4774b21"
      },
      "outputs": [
        {
          "output_type": "stream",
          "name": "stdout",
          "text": [
            "P\n",
            "Politeknik \n",
            "Semarang\n"
          ]
        }
      ],
      "source": [
        "teks = \"Politeknik Negeri Semarang\"\n",
        "print(teks[0]) #'P'\n",
        "print(teks[0:11]) #'Politeknik'\n",
        "print(teks[-8:]) #'Semarang'"
      ]
    },
    {
      "cell_type": "markdown",
      "source": [
        "Method Bawaan String"
      ],
      "metadata": {
        "id": "YsTE_miGFp2v"
      }
    },
    {
      "cell_type": "code",
      "source": [
        "teks = \" Politeknik Negeri Semarang \"\n",
        "print(teks.upper())\n",
        "print(teks.lower())\n",
        "print(teks.title())\n",
        "print(teks.strip())\n",
        "print(teks.split(\" \"))\n",
        "print(\"-\".join([\"Politeknik\",\"Negeri\",\"Semarang\"]))"
      ],
      "metadata": {
        "id": "lq0c9_37HV94",
        "colab": {
          "base_uri": "https://localhost:8080/"
        },
        "outputId": "b7b3b0f4-4d7c-4c64-c488-b067b59964d6"
      },
      "execution_count": null,
      "outputs": [
        {
          "output_type": "stream",
          "name": "stdout",
          "text": [
            " POLITEKNIK NEGERI SEMARANG \n",
            " politeknik negeri semarang \n",
            " Politeknik Negeri Semarang \n",
            "Politeknik Negeri Semarang\n",
            "['', 'Politeknik', 'Negeri', 'Semarang', '']\n",
            "Politeknik-Negeri-Semarang\n"
          ]
        }
      ]
    },
    {
      "cell_type": "markdown",
      "source": [
        "Validasi Password"
      ],
      "metadata": {
        "id": "7afseUPHGw7r"
      }
    },
    {
      "cell_type": "code",
      "source": [
        "password = input(\"Masukkan password:\")\n",
        "if len(password)>= 8:\n",
        "  print(\"Password valid\")\n",
        "else:\n",
        "  print(\"Password terlalu pendek\")"
      ],
      "metadata": {
        "id": "N6_Ir57nHzwA",
        "colab": {
          "base_uri": "https://localhost:8080/"
        },
        "outputId": "e460449c-376c-4921-81e6-cb3113d0bee0"
      },
      "execution_count": null,
      "outputs": [
        {
          "output_type": "stream",
          "name": "stdout",
          "text": [
            "Masukkan password:python123\n",
            "Password valid\n"
          ]
        }
      ]
    },
    {
      "cell_type": "code",
      "source": [
        "password = input(\"Masukkan password:\")\n",
        "if len(password)>= 8:\n",
        "  print(\"Password valid\")\n",
        "else:\n",
        "  print(\"Password terlalu pendek\")"
      ],
      "metadata": {
        "colab": {
          "base_uri": "https://localhost:8080/"
        },
        "id": "COssv-H-4PTF",
        "outputId": "3d64415f-1fe1-464a-c31b-4058ae5a01d1"
      },
      "execution_count": null,
      "outputs": [
        {
          "output_type": "stream",
          "name": "stdout",
          "text": [
            "Masukkan password:abc\n",
            "Password terlalu pendek\n"
          ]
        }
      ]
    },
    {
      "cell_type": "markdown",
      "source": [
        "String Formatting dengan F-String"
      ],
      "metadata": {
        "id": "q28eLf9KyZjg"
      }
    },
    {
      "cell_type": "code",
      "source": [
        "nama = input(\"Masukkan nama:\")\n",
        "umur = int(input(\"Masukkan umur:\"))\n",
        "print(f\"Nama saya {nama},umur {umur} tahun.\")"
      ],
      "metadata": {
        "colab": {
          "base_uri": "https://localhost:8080/"
        },
        "id": "TN8OUhfByjmd",
        "outputId": "c898b1b3-97f0-45f2-d6e4-f6c6f6de146c"
      },
      "execution_count": null,
      "outputs": [
        {
          "output_type": "stream",
          "name": "stdout",
          "text": [
            "Masukkan nama:Budi\n",
            "Masukkan umur:21\n",
            "Nama saya Budi,umur 21 tahun.\n"
          ]
        }
      ]
    },
    {
      "cell_type": "markdown",
      "source": [
        "Operasi dalam F-String"
      ],
      "metadata": {
        "id": "WdIppP5H48Jm"
      }
    },
    {
      "cell_type": "code",
      "source": [
        "a = int(input(\"Masukkan nilai a:\"))\n",
        "b = int(input(\"Masukkan nilai b:\"))\n",
        "print(f\"Hasil penjumlahan {a} + {b} = {a+b}\")\n",
        "print(f\"Hasil pembagian {a} / {b} = {a/b:.2f}\")"
      ],
      "metadata": {
        "colab": {
          "base_uri": "https://localhost:8080/"
        },
        "id": "ee_-ILBn5DNw",
        "outputId": "3c45b474-0def-4fa0-fe16-ae25881bf837"
      },
      "execution_count": null,
      "outputs": [
        {
          "output_type": "stream",
          "name": "stdout",
          "text": [
            "Masukkan nilai a:24\n",
            "Masukkan nilai b:2\n",
            "Hasil penjumlahan 24 + 2 = 26\n",
            "Hasil pembagian 24 / 2 = 12.00\n"
          ]
        }
      ]
    },
    {
      "cell_type": "markdown",
      "source": [
        "Casting String"
      ],
      "metadata": {
        "id": "Pla3tNP95q5P"
      }
    },
    {
      "cell_type": "code",
      "source": [
        "angka = 123\n",
        "teks = \"456\"\n",
        "print(\"Nilai: \" + str(angka))\n",
        "print(int(teks) + 10)"
      ],
      "metadata": {
        "colab": {
          "base_uri": "https://localhost:8080/"
        },
        "id": "L3pfRvjo5t1d",
        "outputId": "1c831ed7-93e1-4147-9d4d-82411408fa89"
      },
      "execution_count": null,
      "outputs": [
        {
          "output_type": "stream",
          "name": "stdout",
          "text": [
            "Nilai: 123\n",
            "466\n"
          ]
        }
      ]
    },
    {
      "cell_type": "markdown",
      "source": [
        "Studi Kasus Nyata: Analisis Kalimat"
      ],
      "metadata": {
        "id": "iNW4PrO96RQv"
      }
    },
    {
      "cell_type": "code",
      "source": [
        "kalimat = \"Saya kuliah di Politeknik Negeri Semarang\"\n",
        "daftar_kata = kalimat.split(\" \")\n",
        "print(f\"Jumlah kata: {len(daftar_kata)}\")\n",
        "for i, kata in enumerate(daftar_kata, start=1):\n",
        "  print(i, kata)"
      ],
      "metadata": {
        "colab": {
          "base_uri": "https://localhost:8080/"
        },
        "id": "j1Ak702b6QsE",
        "outputId": "4ec4efde-e490-4baa-ab46-bb720cc0e738"
      },
      "execution_count": null,
      "outputs": [
        {
          "output_type": "stream",
          "name": "stdout",
          "text": [
            "Jumlah kata: 6\n",
            "1 Saya\n",
            "2 kuliah\n",
            "3 di\n",
            "4 Politeknik\n",
            "5 Negeri\n",
            "6 Semarang\n"
          ]
        }
      ]
    },
    {
      "cell_type": "markdown",
      "source": [
        "Penugasan"
      ],
      "metadata": {
        "id": "PqyGkS_k7QAR"
      }
    },
    {
      "cell_type": "markdown",
      "source": [
        "Indexing dan Slicing"
      ],
      "metadata": {
        "id": "5J2pHx7w7STc"
      }
    },
    {
      "cell_type": "code",
      "source": [
        "teks = \"Politeknik Negeri Semarang\"\n",
        "print(\"Huruf pertama:\",teks[0])\n",
        "print(\"Huruf terakhir:\",teks[-1])\n",
        "print(\"Kata'Negeri':\",teks[11:17])"
      ],
      "metadata": {
        "id": "2CPYcn627VZW",
        "colab": {
          "base_uri": "https://localhost:8080/"
        },
        "outputId": "76a6b025-db3d-4e64-ebb6-b6b13ada5b5e"
      },
      "execution_count": 1,
      "outputs": [
        {
          "output_type": "stream",
          "name": "stdout",
          "text": [
            "Huruf pertama: P\n",
            "Huruf terakhir: g\n",
            "Kata'Negeri': Negeri\n"
          ]
        }
      ]
    },
    {
      "cell_type": "markdown",
      "source": [
        "Manipulasi String"
      ],
      "metadata": {
        "id": "gAdZPTbY_yG1"
      }
    },
    {
      "cell_type": "code",
      "source": [
        "kalimat = input(\"Masukkan sebuah kalimat:\")\n",
        "print(\"Huruf kapital :\",kalimat.upper())\n",
        "print(\"Huruf kecil :\",kalimat.lower())\n",
        "print(\"Panjang kalimat\",len(kalimat))"
      ],
      "metadata": {
        "colab": {
          "base_uri": "https://localhost:8080/"
        },
        "id": "fSoMKlYD_1cy",
        "outputId": "fb8c9346-d2be-4c66-a2ef-01a172d7763d"
      },
      "execution_count": 2,
      "outputs": [
        {
          "output_type": "stream",
          "name": "stdout",
          "text": [
            "Masukkan sebuah kalimat:Aku kuliah di Polines\n",
            "Huruf kapital : AKU KULIAH DI POLINES\n",
            "Huruf kecil : aku kuliah di polines\n",
            "Panjang kalimat 21\n"
          ]
        }
      ]
    },
    {
      "cell_type": "markdown",
      "source": [
        "Validasi Username"
      ],
      "metadata": {
        "id": "i1u4bkNMAT8L"
      }
    },
    {
      "cell_type": "code",
      "source": [
        "username = input(\"Masukkan username:\")\n",
        "if \"\" in username:\n",
        "  print(\"Error: username tidak boleh mengandung spasi!\")\n",
        "else:\n",
        "  print(\"Username valid.\")"
      ],
      "metadata": {
        "colab": {
          "base_uri": "https://localhost:8080/"
        },
        "id": "zLLFNLRWAWhL",
        "outputId": "c9c62f87-2f98-4208-c21f-550f94b1e6dc"
      },
      "execution_count": 4,
      "outputs": [
        {
          "output_type": "stream",
          "name": "stdout",
          "text": [
            "Masukkan username:Mahasiswa Polines\n",
            "Error: username tidak boleh mengandung spasi!\n"
          ]
        }
      ]
    },
    {
      "cell_type": "code",
      "source": [
        "username = input(\"Masukkan username:\")\n",
        "if \" \" in username:\n",
        "  print(\"Error: username tidak boleh mengandung spasi!\")\n",
        "else:\n",
        "  print(\"Username valid.\")"
      ],
      "metadata": {
        "colab": {
          "base_uri": "https://localhost:8080/"
        },
        "id": "l3-yXI4UENbl",
        "outputId": "a7506470-1725-42ce-d241-cd594fe72435"
      },
      "execution_count": 6,
      "outputs": [
        {
          "output_type": "stream",
          "name": "stdout",
          "text": [
            "Masukkan username:mhspolines\n",
            "Username valid.\n"
          ]
        }
      ]
    },
    {
      "cell_type": "markdown",
      "source": [
        "String Formating dengan F-String"
      ],
      "metadata": {
        "id": "ym0GU8-UBxuZ"
      }
    },
    {
      "cell_type": "code",
      "source": [
        "nama = input(\"Masukkan nama:\")\n",
        "umur = int(input(\"Masukkan umur:\"))\n",
        "jurusan = input(\"Masukkan jurusan: \")\n",
        "print(f\"Nama   : {nama}\")\n",
        "print(f\"Umur   : {umur}\")\n",
        "print(f\"Jurusan: {jurusan}\")"
      ],
      "metadata": {
        "colab": {
          "base_uri": "https://localhost:8080/"
        },
        "id": "CxG2ZbKVB3h3",
        "outputId": "2e2e7ed3-ad29-466b-bb95-19425fd85db4"
      },
      "execution_count": 7,
      "outputs": [
        {
          "output_type": "stream",
          "name": "stdout",
          "text": [
            "Masukkan nama:Andi\n",
            "Masukkan umur:20\n",
            "Masukkan jurusan: Teknologi Rekayasa Komputer\n",
            "Nama   : Andi\n",
            "Umur   : 20\n",
            "Jurusan: Teknologi Rekayasa Komputer\n"
          ]
        }
      ]
    },
    {
      "cell_type": "markdown",
      "source": [
        "Operasi dalam F-String"
      ],
      "metadata": {
        "id": "dnnIxiVgDQAa"
      }
    },
    {
      "cell_type": "code",
      "source": [
        "a = float(input(\"Masukkan bilangan pertama: \"))\n",
        "b = float(input(\"Masukkan bilangan kedua: \"))\n",
        "print(f\"Penjumlahan: {a + b}\")\n",
        "print(f\"Perkalian  : {a * b}\")\n",
        "print(f\"Pembagian  : {a / b:.3f}\")"
      ],
      "metadata": {
        "colab": {
          "base_uri": "https://localhost:8080/"
        },
        "id": "4Ie7E4k_DTd5",
        "outputId": "8425c848-89bf-492e-fe21-98649a93d2c3"
      },
      "execution_count": 8,
      "outputs": [
        {
          "output_type": "stream",
          "name": "stdout",
          "text": [
            "Masukkan bilangan pertama: 24\n",
            "Masukkan bilangan kedua: 3\n",
            "Penjumlahan: 27.0\n",
            "Perkalian  : 72.0\n",
            "Pembagian  : 8.000\n"
          ]
        }
      ]
    },
    {
      "cell_type": "markdown",
      "source": [
        "Casting Data"
      ],
      "metadata": {
        "id": "dq0DCww-DX_8"
      }
    },
    {
      "cell_type": "code",
      "source": [
        "angka_str = input(\"Masukkan angka (string): \")\n",
        "angka_int = int(angka_str)\n",
        "print(\"Kuadrat:\", angka_int ** 2)\n",
        "angka_float = float(angka_str)\n",
        "print(f\"Float dengan 2 angka di belakang koma: {angka_float:.2f}\")"
      ],
      "metadata": {
        "colab": {
          "base_uri": "https://localhost:8080/"
        },
        "id": "uvmL75LiDaXl",
        "outputId": "1c89ea87-95d5-4ec8-d0cd-9a1610e46735"
      },
      "execution_count": 9,
      "outputs": [
        {
          "output_type": "stream",
          "name": "stdout",
          "text": [
            "Masukkan angka (string): 25\n",
            "Kuadrat: 625\n",
            "Float dengan 2 angka di belakang koma: 25.00\n"
          ]
        }
      ]
    },
    {
      "cell_type": "markdown",
      "source": [
        "Studi Kasus-Analisis Teks"
      ],
      "metadata": {
        "id": "L_Chyrf6DjE2"
      }
    },
    {
      "cell_type": "code",
      "source": [
        "kalimat = input(\"Masukkan sebuah kalimat: \")\n",
        "kata_list = kalimat.split()\n",
        "print(\"Jumlah kata:\", len(kata_list))\n",
        "kata_terpanjang = max(kata_list, key=len)\n",
        "print(\"Kata terpanjang:\", kata_terpanjang)\n",
        "print(\"Daftar kata urut abjad:\", sorted(kata_list))"
      ],
      "metadata": {
        "colab": {
          "base_uri": "https://localhost:8080/"
        },
        "id": "lWehKzAZDmwq",
        "outputId": "e15d9f22-c1f3-417f-e86b-38b0e7e425aa"
      },
      "execution_count": 10,
      "outputs": [
        {
          "output_type": "stream",
          "name": "stdout",
          "text": [
            "Masukkan sebuah kalimat: Polines berlokasi di Tembalang\n",
            "Jumlah kata: 4\n",
            "Kata terpanjang: berlokasi\n",
            "Daftar kata urut abjad: ['Polines', 'Tembalang', 'berlokasi', 'di']\n"
          ]
        }
      ]
    }
  ]
}