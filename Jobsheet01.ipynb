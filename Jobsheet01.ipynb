{
  "nbformat": 4,
  "nbformat_minor": 0,
  "metadata": {
    "colab": {
      "provenance": [],
      "authorship_tag": "ABX9TyPVLSlJJ0E/hd67qbIL9lAN",
      "include_colab_link": true
    },
    "kernelspec": {
      "name": "python3",
      "display_name": "Python 3"
    },
    "language_info": {
      "name": "python"
    }
  },
  "cells": [
    {
      "cell_type": "markdown",
      "metadata": {
        "id": "view-in-github",
        "colab_type": "text"
      },
      "source": [
        "<a href=\"https://colab.research.google.com/github/dimasbayucmiiw/2025-Algoritma-Pemrograman/blob/main/Jobsheet01.ipynb\" target=\"_parent\"><img src=\"https://colab.research.google.com/assets/colab-badge.svg\" alt=\"Open In Colab\"/></a>"
      ]
    },
    {
      "cell_type": "markdown",
      "source": [
        "**Praktikun**"
      ],
      "metadata": {
        "id": "tG1YNZgEPl0A"
      }
    },
    {
      "cell_type": "markdown",
      "source": [
        "Menghitung Luas Persegi Panjang"
      ],
      "metadata": {
        "id": "z-uUMU67PKrw"
      }
    },
    {
      "cell_type": "code",
      "execution_count": null,
      "metadata": {
        "colab": {
          "base_uri": "https://localhost:8080/"
        },
        "id": "F6rPY_u31w6a",
        "outputId": "8df4db41-cd77-4a7f-f499-c46b0556f458"
      },
      "outputs": [
        {
          "output_type": "stream",
          "name": "stdout",
          "text": [
            "Masukkan panjang:12\n",
            "Masukkan lebar:5\n",
            "Luas persegi panjang= 60\n"
          ]
        }
      ],
      "source": [
        "p = int (input(\"Masukkan panjang:\"))\n",
        "l = int (input(\"Masukkan lebar:\"))\n",
        "luas = p * l\n",
        "print(\"Luas persegi panjang=\", luas)"
      ]
    },
    {
      "cell_type": "markdown",
      "source": [
        "Menghitung Luas Segitiga (Rumus Heron)"
      ],
      "metadata": {
        "id": "6CfUNStS51Vi"
      }
    },
    {
      "cell_type": "code",
      "source": [
        "import math\n",
        "a = float(input(\"Masukkan sisi a:\"))\n",
        "b = float(input(\"Masukkan sisi b:\"))\n",
        "c = float(input(\"Masukkan sisi c:\"))\n",
        "s = (a+b+c)/2\n",
        "luas = math.sqrt(s*(s-a)*(s-b)*(s-c))\n",
        "print(\"Luas segitiga =\", luas)"
      ],
      "metadata": {
        "colab": {
          "base_uri": "https://localhost:8080/"
        },
        "id": "kBAQZiCr4sOC",
        "outputId": "d0750051-0a94-4b2a-d548-47cf1dc93784"
      },
      "execution_count": null,
      "outputs": [
        {
          "output_type": "stream",
          "name": "stdout",
          "text": [
            "Masukkan sisi a:4\n",
            "Masukkan sisi b:4\n",
            "Masukkan sisi c:4\n",
            "Luas segitiga = 6.928203230275509\n"
          ]
        }
      ]
    },
    {
      "cell_type": "markdown",
      "source": [
        "Konversi Suhu Celcius ke Farenheit"
      ],
      "metadata": {
        "id": "VhTHpiPB7xqX"
      }
    },
    {
      "cell_type": "code",
      "source": [
        "c = float(input(\"Masukkan suhu (°C):\"))\n",
        "f = (c*9/5)+32\n",
        "print(\"Hasil konversi =\",f,\"°F\")"
      ],
      "metadata": {
        "colab": {
          "base_uri": "https://localhost:8080/"
        },
        "id": "f4IqOC017UeD",
        "outputId": "32f54af5-fbc1-4aec-cdec-79ea405c921f"
      },
      "execution_count": null,
      "outputs": [
        {
          "output_type": "stream",
          "name": "stdout",
          "text": [
            "Masukkan suhu (°C):15\n",
            "Hasil konversi = 59.0 °F\n"
          ]
        }
      ]
    },
    {
      "cell_type": "markdown",
      "source": [
        "Menghitung Umur Berdasarkan Tahun Lahir"
      ],
      "metadata": {
        "id": "j2gVkqKV8XE4"
      }
    },
    {
      "cell_type": "code",
      "source": [
        "tahun_lahir = int(input(\"Masukkan tahun lahir:\"))\n",
        "tahun_sekarang = 2025\n",
        "umur = tahun_sekarang - tahun_lahir\n",
        "print(\"Umur anda =\",umur,\"tahun\")"
      ],
      "metadata": {
        "colab": {
          "base_uri": "https://localhost:8080/"
        },
        "id": "4UGoPo1I8Umu",
        "outputId": "3be13400-8ca1-4289-b413-ebc840e930e1"
      },
      "execution_count": null,
      "outputs": [
        {
          "output_type": "stream",
          "name": "stdout",
          "text": [
            "Masukkan tahun lahir:1980\n",
            "Umur anda = 45 tahun\n"
          ]
        }
      ]
    },
    {
      "cell_type": "markdown",
      "source": [
        "Menghitung Luas Lingkaran"
      ],
      "metadata": {
        "id": "0BMBRErC9DWL"
      }
    },
    {
      "cell_type": "code",
      "source": [
        "import math\n",
        "r = float(input(\"Masukkan jari-jari lingkaran:\"))\n",
        "luas = math.pi * r * r\n",
        "print(\"Luas lingkaran =\", luas)"
      ],
      "metadata": {
        "colab": {
          "base_uri": "https://localhost:8080/"
        },
        "id": "WbvhstoC824s",
        "outputId": "46c073b9-b6fc-433a-d90f-7c8ce4c4ba9f"
      },
      "execution_count": null,
      "outputs": [
        {
          "output_type": "stream",
          "name": "stdout",
          "text": [
            "Masukkan jari-jari lingkaran:14\n",
            "Luas lingkaran = 615.7521601035994\n"
          ]
        }
      ]
    },
    {
      "cell_type": "markdown",
      "source": [
        "Menghitung Tiga Bilangan"
      ],
      "metadata": {
        "id": "tvb_XJH79mmI"
      }
    },
    {
      "cell_type": "code",
      "source": [
        "a = int(input(\"Masukkan bilangan pertama:\"))\n",
        "b = int(input(\"Masukkan bilangan kedua:\"))\n",
        "c = int(input(\"Masukkan bilangan ketiga:\"))\n",
        "jumlah = a+b+c\n",
        "print(\"Jumlah =\", jumlah)"
      ],
      "metadata": {
        "colab": {
          "base_uri": "https://localhost:8080/"
        },
        "id": "5TBnq-bo9ZNe",
        "outputId": "46a53810-99dc-4953-d4c7-65a8672263a1"
      },
      "execution_count": null,
      "outputs": [
        {
          "output_type": "stream",
          "name": "stdout",
          "text": [
            "Masukkan bilangan pertama:2\n",
            "Masukkan bilangan kedua:3\n",
            "Masukkan bilangan ketiga:4\n",
            "Jumlah = 9\n"
          ]
        }
      ]
    },
    {
      "cell_type": "markdown",
      "source": [
        "**Penugasan**"
      ],
      "metadata": {
        "id": "yPGmPbOGPsbd"
      }
    },
    {
      "cell_type": "markdown",
      "source": [
        "Menghitung Volume Balok"
      ],
      "metadata": {
        "id": "H1Rk_6awPaml"
      }
    },
    {
      "cell_type": "code",
      "source": [
        "p = int(input(\"Masukkan panjang:\"))\n",
        "l = int(input(\"Masukkan lebar:\"))\n",
        "t = int(input(\"Masukkan tinggi:\"))\n",
        "volume = p*l*t\n",
        "print(\"Volume balok =\", volume)"
      ],
      "metadata": {
        "id": "-0gjB0cA-EQ-",
        "outputId": "dab5f65e-eab1-4dab-ae69-dbbcb0755464",
        "colab": {
          "base_uri": "https://localhost:8080/"
        }
      },
      "execution_count": 3,
      "outputs": [
        {
          "output_type": "stream",
          "name": "stdout",
          "text": [
            "Masukkan panjang:2\n",
            "Masukkan lebar:3\n",
            "Masukkan tinggi:4\n",
            "Volume balok = 24\n"
          ]
        }
      ]
    },
    {
      "cell_type": "markdown",
      "source": [
        "Konversi Waktu (Detik ke Jam:Menit:Detik)"
      ],
      "metadata": {
        "id": "VtJCVSekQjb0"
      }
    },
    {
      "cell_type": "code",
      "source": [
        "detik = int(input(\"Masukkan waktu dalam detik:\"))\n",
        "jam = float(detik) / 3600\n",
        "sisa = detik%3600\n",
        "menit = float(sisa) / 60\n",
        "detik = sisa % 60\n",
        "print(str(jam)+\"jam,\"+str(menit)+ \"menit,\"+str(detik)+\"detik\")"
      ],
      "metadata": {
        "id": "_qjPvSOhQKPS",
        "outputId": "34d91d19-cf8a-4c5a-e86b-a4b9831de275",
        "colab": {
          "base_uri": "https://localhost:8080/"
        }
      },
      "execution_count": 5,
      "outputs": [
        {
          "output_type": "stream",
          "name": "stdout",
          "text": [
            "Masukkan waktu dalam detik:5000\n",
            "1.3888888888888888jam,23.333333333333332menit,20detik\n"
          ]
        }
      ]
    },
    {
      "cell_type": "markdown",
      "source": [
        "Rata Rata Nilai Tiga Mata Kuliah"
      ],
      "metadata": {
        "id": "aiaHYz06b_aH"
      }
    },
    {
      "cell_type": "code",
      "source": [
        "n1 = float(input(\"Masukkan nilai mata kuliah 1:\"))\n",
        "n2 = float(input(\"Masukkan nilai mata kuliah 2:\"))\n",
        "n3 = float(input(\"Masukkan nilai mata kuliah 3:\"))\n",
        "rata = (n1+n2+n3)/3\n",
        "print(\"Rata-rata =\"+ str(rata))\n",
        "if rata >= 60:\n",
        "  print(\"Lulus\")\n",
        "else:\n",
        "  print(\"Tidak Lulus\")"
      ],
      "metadata": {
        "id": "EfyvpEPOa-hY",
        "outputId": "64ff416d-ceee-4819-9cb6-0fbd77845cc8",
        "colab": {
          "base_uri": "https://localhost:8080/"
        }
      },
      "execution_count": 7,
      "outputs": [
        {
          "output_type": "stream",
          "name": "stdout",
          "text": [
            "Masukkan nilai mata kuliah 1:80\n",
            "Masukkan nilai mata kuliah 2:79\n",
            "Masukkan nilai mata kuliah 3:88\n",
            "Rata-rata =82.33333333333333\n",
            "Lulus\n"
          ]
        }
      ]
    },
    {
      "cell_type": "markdown",
      "source": [
        "Menghitung Diskon Belanja"
      ],
      "metadata": {
        "id": "3u4eYwjMdDln"
      }
    },
    {
      "cell_type": "code",
      "source": [
        "total = float(input(\"Masukkan total belanja:\"))\n",
        "if total >= 500000:\n",
        "  diskon = 0.2*total\n",
        "else:\n",
        "  if total >= 250000:\n",
        "    diskon = 0.1*total\n",
        "  else:\n",
        "    diskon = 0\n",
        "bayar =total-diskon\n",
        "print(\"Total bayar setelah diskon = \"+ str(bayar))"
      ],
      "metadata": {
        "id": "WOwb0kNbc6YR",
        "outputId": "b67a2ba3-0b42-4522-ae91-c785dc725bcd",
        "colab": {
          "base_uri": "https://localhost:8080/"
        }
      },
      "execution_count": 8,
      "outputs": [
        {
          "output_type": "stream",
          "name": "stdout",
          "text": [
            "Masukkan total belanja:500000\n",
            "Total bayar setelah diskon = 400000.0\n"
          ]
        }
      ]
    },
    {
      "cell_type": "code",
      "source": [],
      "metadata": {
        "id": "jJOs3VgUdvFy"
      },
      "execution_count": null,
      "outputs": []
    }
  ]
}