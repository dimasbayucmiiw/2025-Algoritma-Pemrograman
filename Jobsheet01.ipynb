{
  "nbformat": 4,
  "nbformat_minor": 0,
  "metadata": {
    "colab": {
      "provenance": [],
      "authorship_tag": "ABX9TyOclOGlNjOxNP1c4Vb43ZpJ",
      "include_colab_link": true
    },
    "kernelspec": {
      "name": "python3",
      "display_name": "Python 3"
    },
    "language_info": {
      "name": "python"
    }
  },
  "cells": [
    {
      "cell_type": "markdown",
      "metadata": {
        "id": "view-in-github",
        "colab_type": "text"
      },
      "source": [
        "<a href=\"https://colab.research.google.com/github/dimasbayucmiiw/2025-Algoritma-Pemrograman/blob/main/Jobsheet01.ipynb\" target=\"_parent\"><img src=\"https://colab.research.google.com/assets/colab-badge.svg\" alt=\"Open In Colab\"/></a>"
      ]
    },
    {
      "cell_type": "markdown",
      "source": [
        "Menghitung Luas Persegi Panjang"
      ],
      "metadata": {
        "id": "NqL_U4iB30to"
      }
    },
    {
      "cell_type": "code",
      "execution_count": 1,
      "metadata": {
        "colab": {
          "base_uri": "https://localhost:8080/"
        },
        "id": "F6rPY_u31w6a",
        "outputId": "8df4db41-cd77-4a7f-f499-c46b0556f458"
      },
      "outputs": [
        {
          "output_type": "stream",
          "name": "stdout",
          "text": [
            "Masukkan panjang:12\n",
            "Masukkan lebar:5\n",
            "Luas persegi panjang= 60\n"
          ]
        }
      ],
      "source": [
        "p = int (input(\"Masukkan panjang:\"))\n",
        "l = int (input(\"Masukkan lebar:\"))\n",
        "luas = p * l\n",
        "print(\"Luas persegi panjang=\", luas)"
      ]
    },
    {
      "cell_type": "markdown",
      "source": [
        "Menghitung Luas Segitiga (Rumus Heron)"
      ],
      "metadata": {
        "id": "6CfUNStS51Vi"
      }
    },
    {
      "cell_type": "code",
      "source": [
        "import math\n",
        "a = float(input(\"Masukkan sisi a:\"))\n",
        "b = float(input(\"Masukkan sisi b:\"))\n",
        "c = float(input(\"Masukkan sisi c:\"))\n",
        "s = (a+b+c)/2\n",
        "luas = math.sqrt(s*(s-a)*(s-b)*(s-c))\n",
        "print(\"Luas segitiga =\", luas)"
      ],
      "metadata": {
        "colab": {
          "base_uri": "https://localhost:8080/"
        },
        "id": "kBAQZiCr4sOC",
        "outputId": "d0750051-0a94-4b2a-d548-47cf1dc93784"
      },
      "execution_count": 2,
      "outputs": [
        {
          "output_type": "stream",
          "name": "stdout",
          "text": [
            "Masukkan sisi a:4\n",
            "Masukkan sisi b:4\n",
            "Masukkan sisi c:4\n",
            "Luas segitiga = 6.928203230275509\n"
          ]
        }
      ]
    },
    {
      "cell_type": "markdown",
      "source": [
        "Konversi Suhu Celcius ke Farenheit"
      ],
      "metadata": {
        "id": "VhTHpiPB7xqX"
      }
    },
    {
      "cell_type": "code",
      "source": [
        "c = float(input(\"Masukkan suhu (°C):\"))\n",
        "f = (c*9/5)+32\n",
        "print(\"Hasil konversi =\",f,\"°F\")"
      ],
      "metadata": {
        "colab": {
          "base_uri": "https://localhost:8080/"
        },
        "id": "f4IqOC017UeD",
        "outputId": "32f54af5-fbc1-4aec-cdec-79ea405c921f"
      },
      "execution_count": 3,
      "outputs": [
        {
          "output_type": "stream",
          "name": "stdout",
          "text": [
            "Masukkan suhu (°C):15\n",
            "Hasil konversi = 59.0 °F\n"
          ]
        }
      ]
    },
    {
      "cell_type": "markdown",
      "source": [
        "Menghitung Umur Berdasarkan Tahun Lahir"
      ],
      "metadata": {
        "id": "j2gVkqKV8XE4"
      }
    },
    {
      "cell_type": "code",
      "source": [
        "tahun_lahir = int(input(\"Masukkan tahun lahir:\"))\n",
        "tahun_sekarang = 2025\n",
        "umur = tahun_sekarang - tahun_lahir\n",
        "print(\"Umur anda =\",umur,\"tahun\")"
      ],
      "metadata": {
        "colab": {
          "base_uri": "https://localhost:8080/"
        },
        "id": "4UGoPo1I8Umu",
        "outputId": "3be13400-8ca1-4289-b413-ebc840e930e1"
      },
      "execution_count": 5,
      "outputs": [
        {
          "output_type": "stream",
          "name": "stdout",
          "text": [
            "Masukkan tahun lahir:1980\n",
            "Umur anda = 45 tahun\n"
          ]
        }
      ]
    },
    {
      "cell_type": "markdown",
      "source": [
        "Menghitung Luas Lingkaran"
      ],
      "metadata": {
        "id": "0BMBRErC9DWL"
      }
    },
    {
      "cell_type": "code",
      "source": [
        "import math\n",
        "r = float(input(\"Masukkan jari-jari lingkaran:\"))\n",
        "luas = math.pi * r * r\n",
        "print(\"Luas lingkaran =\", luas)"
      ],
      "metadata": {
        "colab": {
          "base_uri": "https://localhost:8080/"
        },
        "id": "WbvhstoC824s",
        "outputId": "46c073b9-b6fc-433a-d90f-7c8ce4c4ba9f"
      },
      "execution_count": 7,
      "outputs": [
        {
          "output_type": "stream",
          "name": "stdout",
          "text": [
            "Masukkan jari-jari lingkaran:14\n",
            "Luas lingkaran = 615.7521601035994\n"
          ]
        }
      ]
    },
    {
      "cell_type": "markdown",
      "source": [
        "Menghitung Tiga Bilangan"
      ],
      "metadata": {
        "id": "tvb_XJH79mmI"
      }
    },
    {
      "cell_type": "code",
      "source": [
        "a = int(input(\"Masukkan bilangan pertama:\"))\n",
        "b = int(input(\"Masukkan bilangan kedua:\"))\n",
        "c = int(input(\"Masukkan bilangan ketiga:\"))\n",
        "jumlah = a+b+c\n",
        "print(\"Jumlah =\", jumlah)"
      ],
      "metadata": {
        "colab": {
          "base_uri": "https://localhost:8080/"
        },
        "id": "5TBnq-bo9ZNe",
        "outputId": "46a53810-99dc-4953-d4c7-65a8672263a1"
      },
      "execution_count": 8,
      "outputs": [
        {
          "output_type": "stream",
          "name": "stdout",
          "text": [
            "Masukkan bilangan pertama:2\n",
            "Masukkan bilangan kedua:3\n",
            "Masukkan bilangan ketiga:4\n",
            "Jumlah = 9\n"
          ]
        }
      ]
    },
    {
      "cell_type": "code",
      "source": [],
      "metadata": {
        "id": "-0gjB0cA-EQ-"
      },
      "execution_count": null,
      "outputs": []
    }
  ]
}