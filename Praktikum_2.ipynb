{
  "nbformat": 4,
  "nbformat_minor": 0,
  "metadata": {
    "colab": {
      "provenance": [],
      "authorship_tag": "ABX9TyNnvQHc0z+UL92v7KNCYQNM",
      "include_colab_link": true
    },
    "kernelspec": {
      "name": "python3",
      "display_name": "Python 3"
    },
    "language_info": {
      "name": "python"
    }
  },
  "cells": [
    {
      "cell_type": "markdown",
      "metadata": {
        "id": "view-in-github",
        "colab_type": "text"
      },
      "source": [
        "<a href=\"https://colab.research.google.com/github/dimasbayucmiiw/2025-Algoritma-Pemrograman/blob/main/Praktikum_2.ipynb\" target=\"_parent\"><img src=\"https://colab.research.google.com/assets/colab-badge.svg\" alt=\"Open In Colab\"/></a>"
      ]
    },
    {
      "cell_type": "code",
      "source": [
        "Hasil Praktikum"
      ],
      "metadata": {
        "id": "Qyq0Obyr4wom"
      },
      "execution_count": null,
      "outputs": []
    },
    {
      "cell_type": "code",
      "source": [
        "umur = 20\n",
        "print(\"umur:\",umur,\"->\",type(umur))\n",
        "tinggi = 170.5\n",
        "print(\"Tinggi:\",tinggi,\"->\",type(tinggi))\n",
        "nama = \"Andi\"\n",
        "print(\"Nama:\",nama,\"->\",type(nama))\n",
        "is_mahasiswa = True\n",
        "print(\"Status Mahasiswa:\", is_mahasiswa,\"->\", type(is_mahasiswa))\n",
        "nilai = [80,85,90]\n",
        "print(\"Nilai:\",nilai,\"->\",type(nilai))\n",
        "koordinat = (10,20)\n",
        "print(\"Koordinat:\",koordinat,\"->\",type(koordinat))\n",
        "mahasiswa = {\"nama\": \"Andi\",\"umur\":20,\"prodi\":\"TRK\"}\n",
        "print(\"Data Mahasiswa:\",mahasiswa,\"->\",type(mahasiswa))\n",
        "hobi = {\"membaca\",\"olahraga\",\"musik\"}\n",
        "print(\"Hobi:\",hobi,\"->\",type(hobi))"
      ],
      "metadata": {
        "colab": {
          "base_uri": "https://localhost:8080/"
        },
        "id": "DL6090bF7Ax4",
        "outputId": "faa6289b-433a-4ef7-e429-e0385e4114ce"
      },
      "execution_count": null,
      "outputs": [
        {
          "output_type": "stream",
          "name": "stdout",
          "text": [
            "umur: 20 -> <class 'int'>\n",
            "Tinggi: 170.5 -> <class 'float'>\n",
            "Nama: Andi -> <class 'str'>\n",
            "Status Mahasiswa: True -> <class 'bool'>\n",
            "Nilai: [80, 85, 90] -> <class 'list'>\n",
            "Koordinat: (10, 20) -> <class 'tuple'>\n",
            "Data Mahasiswa: {'nama': 'Andi', 'umur': 20, 'prodi': 'TRK'} -> <class 'dict'>\n",
            "Hobi: {'olahraga', 'membaca', 'musik'} -> <class 'set'>\n"
          ]
        }
      ]
    },
    {
      "cell_type": "code",
      "execution_count": 2,
      "metadata": {
        "id": "_NjKt7Uj4Y6W",
        "colab": {
          "base_uri": "https://localhost:8080/"
        },
        "outputId": "924cc26e-4931-470a-c195-1beaf4f485d3"
      },
      "outputs": [
        {
          "output_type": "stream",
          "name": "stdout",
          "text": [
            "Masukkan nama Anda:Dimas\n",
            "Masukkan umur Anda:18\n",
            "Masukkan tinggi (cm):145\n",
            "Halo, Dimas umur Anda: 18\n",
            "Halo, Dimas umur Anda: 18 tahun,tinggi: 145.0 cm\n",
            "Halo Dimas,umur Anda 18 tahun,tinggi 145.0 cm\n"
          ]
        }
      ],
      "source": [
        "nama = input(\"Masukkan nama Anda:\")\n",
        "umur = int(input(\"Masukkan umur Anda:\"))\n",
        "tinggi = float(input(\"Masukkan tinggi (cm):\"))\n",
        "print(\"Halo,\",nama,\"umur Anda:\",umur,)\n",
        "print(\"Halo,\",nama,\"umur Anda:\",umur,\"tahun,tinggi:\",tinggi,\"cm\")\n",
        "print(f\"Halo {nama},umur Anda {umur} tahun,tinggi {tinggi} cm\")"
      ]
    },
    {
      "cell_type": "code",
      "source": [
        "a = 15\n",
        "b = 14\n",
        "print(\"a + b =\",a + b)\n",
        "print(\"a - b =\",a - b)\n",
        "print(\"a * b =\",a * b)\n",
        "print(\"a / b =\",a / b)\n",
        "print(\"a // b =\",a // b)\n",
        "print(\"a % b =\",a % b)\n",
        "print(\"a ** b =\",a ** b)"
      ],
      "metadata": {
        "colab": {
          "base_uri": "https://localhost:8080/"
        },
        "id": "HyRrYOlwsW61",
        "outputId": "e7d62b3a-8110-4d21-c8e5-cede79cebc24"
      },
      "execution_count": 3,
      "outputs": [
        {
          "output_type": "stream",
          "name": "stdout",
          "text": [
            "a + b = 29\n",
            "a - b = 1\n",
            "a * b = 210\n",
            "a / b = 1.0714285714285714\n",
            "a // b = 1\n",
            "a % b = 1\n",
            "a ** b = 29192926025390625\n"
          ]
        }
      ]
    },
    {
      "cell_type": "code",
      "source": [
        "x = 10\n",
        "y = 20\n",
        "print(\"x == y :\",x == y)\n",
        "print(\"x != y :\",x != y)\n",
        "print(\"x < y :\",x < y)\n",
        "print(\"x > y :\",x > y)\n",
        "print(\"x <= y :\",x <= y)\n",
        "print(\"x >= y :\",x >= y)"
      ],
      "metadata": {
        "colab": {
          "base_uri": "https://localhost:8080/"
        },
        "id": "cGs0Jb5lwgEe",
        "outputId": "7a4cde08-3ab7-4b8a-a90d-eb70885a91e7"
      },
      "execution_count": 4,
      "outputs": [
        {
          "output_type": "stream",
          "name": "stdout",
          "text": [
            "x == y : False\n",
            "x != y : True\n",
            "x < y : True\n",
            "x > y : False\n",
            "x <= y : True\n",
            "x >= y : False\n"
          ]
        }
      ]
    },
    {
      "cell_type": "code",
      "source": [
        "a = True\n",
        "b = False\n",
        "print(\"a and b =\", a and b)\n",
        "print(\"a or b =\", a  or b)\n",
        "print(\"not a =\", not a)\n",
        "nilai = int(input(\"Masukkan nilai ujian:\"))\n",
        "hadir = int(input(\"Masukkan jumlah kehadiran:\"))\n",
        "lulus_nilai = nilai >= 60\n",
        "lulus_hadir = hadir>= 12 #dari 16 pertemuan\n",
        "if lulus_nilai and lulus_hadir:\n",
        "  print(\"Status: LULUS\")\n",
        "else:\n",
        "  print(\"Status; TIDAK LULUS\")"
      ],
      "metadata": {
        "colab": {
          "base_uri": "https://localhost:8080/"
        },
        "id": "GYk15mkryC06",
        "outputId": "a72a186a-4332-44a1-ebea-21f4bad78654"
      },
      "execution_count": 6,
      "outputs": [
        {
          "output_type": "stream",
          "name": "stdout",
          "text": [
            "a and b = False\n",
            "a or b = True\n",
            "not a = False\n",
            "Masukkan nilai ujian:85\n",
            "Masukkan jumlah kehadiran:50\n",
            "Status: LULUS\n"
          ]
        }
      ]
    },
    {
      "cell_type": "code",
      "source": [
        "barang = input(\"Masukkan nama barang:\")\n",
        "harga = float(input(\"Masukkan harga barang:\"))\n",
        "jumlah = int(input(\"Masukkan jumlah barang:\"))\n",
        "total = harga * jumlah\n",
        "#Aturan diskon\n",
        "if total >= 500000:\n",
        "  diskon = 0.2\n",
        "elif total >= 250000:\n",
        "  diskon = 0.1\n",
        "else:\n",
        "  diskon = 0\n",
        "potongan = total * diskon\n",
        "bayar = total - potongan\n",
        "print(\"\\n===== Struk Belanja =====\")\n",
        "print(f\"Barang : {barang}\")\n",
        "print(f\"Jumlah : {jumlah}\")\n",
        "print(f\"Total : Rp {total}\")\n",
        "print(f\"Diskon : {diskon * 100}%\")\n",
        "print(f\"bayar : Rp {bayar}\")"
      ],
      "metadata": {
        "colab": {
          "base_uri": "https://localhost:8080/"
        },
        "id": "LvMVPueQ0HM-",
        "outputId": "18a2e61b-3d81-43a4-b35a-8302e095bbb6"
      },
      "execution_count": 8,
      "outputs": [
        {
          "output_type": "stream",
          "name": "stdout",
          "text": [
            "Masukkan nama barang:Power Bank\n",
            "Masukkan harga barang:200000\n",
            "Masukkan jumlah barang:1\n",
            "\n",
            "===== Struk Belanja =====\n",
            "Barang : Power Bank\n",
            "Jumlah : 1\n",
            "Total : Rp 200000.0\n",
            "Diskon : 0%\n",
            "bayar : Rp 200000.0\n"
          ]
        }
      ]
    },
    {
      "cell_type": "markdown",
      "source": [
        "Penugasan"
      ],
      "metadata": {
        "id": "y5Zq5iTC5ZSq"
      }
    },
    {
      "cell_type": "markdown",
      "source": [
        "Identitas Mahasiswa"
      ],
      "metadata": {
        "id": "fYv9EKA-5hUN"
      }
    },
    {
      "cell_type": "code",
      "source": [
        "nama = \"Dimas Bayu Pratama\"\n",
        "umur = 18\n",
        "tinggi = 145\n",
        "status_aktif = True\n",
        "print(f\"Nama Mahasiswa: {nama}\")\n",
        "print(f\"umur: {umur} tahun\")\n",
        "print(f\"Tinggi Badan: {tinggi} cm \")\n",
        "print(f\"Status Aktif: {status_aktif}\")"
      ],
      "metadata": {
        "colab": {
          "base_uri": "https://localhost:8080/"
        },
        "id": "XCVu5hea5dIN",
        "outputId": "5880812c-6141-4b49-8812-eb8cee51697c"
      },
      "execution_count": 9,
      "outputs": [
        {
          "output_type": "stream",
          "name": "stdout",
          "text": [
            "Nama Mahasiswa: Dimas Bayu Pratama\n",
            "umur: 18 tahun\n",
            "Tinggi Badan: 145 cm \n",
            "Status Aktif: True\n"
          ]
        }
      ]
    },
    {
      "cell_type": "markdown",
      "source": [
        "Operasi Aritmatika"
      ],
      "metadata": {
        "id": "Etx_CfUC8aq7"
      }
    },
    {
      "cell_type": "code",
      "source": [
        "a = int(input(\"Masukkan bilangan pertama:\"))\n",
        "b = int(input(\"Masukkan bilangan kedua:\"))\n",
        "print(f\"Hasil Penjumlahan : {a + b}\")\n",
        "print(f\"Hasil Pengurungan : {a - b}\")\n",
        "print(f\"Hasil Perkalian : {a * b}\")\n",
        "print(f\"Hasil pembagian : {a / b}\")\n",
        "print(f\"Sisa Bagi (modulo) : {a % b}\")\n",
        "print(f\"Perpangkatan : {a ** b}\")"
      ],
      "metadata": {
        "colab": {
          "base_uri": "https://localhost:8080/"
        },
        "id": "ILp-lvpH8fZ2",
        "outputId": "d4ce6ad2-abc1-4f97-faf9-f9fe454c2252"
      },
      "execution_count": 10,
      "outputs": [
        {
          "output_type": "stream",
          "name": "stdout",
          "text": [
            "Masukkan bilangan pertama:4\n",
            "Masukkan bilangan kedua:5\n",
            "Hasil Penjumlahan : 9\n",
            "Hasil Pengurungan : -1\n",
            "Hasil Perkalian : 20\n",
            "Hasil pembagian : 0.8\n",
            "Sisa Bagi (modulo) : 4\n",
            "Perpangkatan : 1024\n"
          ]
        }
      ]
    },
    {
      "cell_type": "markdown",
      "source": [
        "Konversi Nilai"
      ],
      "metadata": {
        "id": "xhrAe50R9zhY"
      }
    },
    {
      "cell_type": "code",
      "source": [
        "angka = float(input(\"Masukkan angka desimal:\"))\n",
        "print(f\"Nilai dalam bentuk integer : {int(angka)}\")\n",
        "print(f\"Nilai dalam bentuk string : {str(angka)}\")\n",
        "print(f\"Nilai dibulatkan (2 diigit) : {round(angka, 2)}\")"
      ],
      "metadata": {
        "colab": {
          "base_uri": "https://localhost:8080/"
        },
        "id": "lNgI1wiI94g5",
        "outputId": "2895a79f-c7b1-47be-8e41-b50e6346f67b"
      },
      "execution_count": 11,
      "outputs": [
        {
          "output_type": "stream",
          "name": "stdout",
          "text": [
            "Masukkan angka desimal:3.5\n",
            "Nilai dalam bentuk integer : 3\n",
            "Nilai dalam bentuk string : 3.5\n",
            "Nilai dibulatkan (2 diigit) : 3.5\n"
          ]
        }
      ]
    },
    {
      "cell_type": "markdown",
      "source": [
        "Operator Relasional"
      ],
      "metadata": {
        "id": "hDdSwjsx-pB5"
      }
    },
    {
      "cell_type": "code",
      "source": [
        "x = float(input(\"Masukkan bilangan pertama:\"))\n",
        "y = float(input(\"Masukkan bilangan kedua:\"))\n",
        "print(f\"{x} == {y} : {x == y}\")\n",
        "print(f\"{x} != {y} : {x != y}\")\n",
        "print(f\"{x} < {y} : {x < y}\")\n",
        "print(f\"{x} > {y} : {x > y}\")\n",
        "print(f\"{x} <= {y} : {x <= y}\")\n",
        "print(f\"{x} >= {y} : {x >= y}\")"
      ],
      "metadata": {
        "colab": {
          "base_uri": "https://localhost:8080/"
        },
        "id": "4xp5CUlq-ssO",
        "outputId": "f60290ae-7eec-4d8d-c9e7-da7e5b895a92"
      },
      "execution_count": 12,
      "outputs": [
        {
          "output_type": "stream",
          "name": "stdout",
          "text": [
            "Masukkan bilangan pertama:25\n",
            "Masukkan bilangan kedua:45\n",
            "25.0 == 45.0 : False\n",
            "25.0 != 45.0 : True\n",
            "25.0 < 45.0 : True\n",
            "25.0 > 45.0 : False\n",
            "25.0 <= 45.0 : True\n",
            "25.0 >= 45.0 : False\n"
          ]
        }
      ]
    }
  ]
}