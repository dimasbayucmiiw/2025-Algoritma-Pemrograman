{
  "nbformat": 4,
  "nbformat_minor": 0,
  "metadata": {
    "colab": {
      "provenance": [],
      "authorship_tag": "ABX9TyMFlJjecj6exskEehTniKdt",
      "include_colab_link": true
    },
    "kernelspec": {
      "name": "python3",
      "display_name": "Python 3"
    },
    "language_info": {
      "name": "python"
    }
  },
  "cells": [
    {
      "cell_type": "markdown",
      "metadata": {
        "id": "view-in-github",
        "colab_type": "text"
      },
      "source": [
        "<a href=\"https://colab.research.google.com/github/dimasbayucmiiw/2025-Algoritma-Pemrograman/blob/main/Praktikum07.ipynb\" target=\"_parent\"><img src=\"https://colab.research.google.com/assets/colab-badge.svg\" alt=\"Open In Colab\"/></a>"
      ]
    },
    {
      "cell_type": "markdown",
      "source": [
        "Praktikum"
      ],
      "metadata": {
        "id": "z1bbbsyU7HMA"
      }
    },
    {
      "cell_type": "markdown",
      "source": [
        "Tuple:Data Tetap yang Tidak Bisa Diubah"
      ],
      "metadata": {
        "id": "FphQ8A4Y6hlH"
      }
    },
    {
      "cell_type": "code",
      "execution_count": null,
      "metadata": {
        "colab": {
          "base_uri": "https://localhost:8080/"
        },
        "id": "B-UA7sBE6QW4",
        "outputId": "b3b3c79c-260c-42e7-e481-a4db87cc100e"
      },
      "outputs": [
        {
          "output_type": "stream",
          "name": "stdout",
          "text": [
            "Lintang: 7.05\n",
            "Bujur: 110.44\n"
          ]
        }
      ],
      "source": [
        "koordinat = (7.05,110.44)\n",
        "print(\"Lintang:\", koordinat[0])\n",
        "print(\"Bujur:\", koordinat[1])"
      ]
    },
    {
      "cell_type": "markdown",
      "source": [
        "Dictionary Dasar:Menyimpan Data Mahasiswa"
      ],
      "metadata": {
        "id": "wmg6fykD68gX"
      }
    },
    {
      "cell_type": "code",
      "source": [
        "mahasiswa = {\n",
        "    \"NIM\": \"20251001\",\n",
        "    \"Nama\": \"Andi\",\n",
        "    \"Prodi\": \"TRK\"\n",
        "}\n",
        "print(\"NIM:\", mahasiswa[\"NIM\"])\n",
        "print(\"Nama:\", mahasiswa[\"Nama\"])\n",
        "print(\"Prodi:\", mahasiswa[\"Prodi\"])"
      ],
      "metadata": {
        "id": "mWP-x73W7S7s",
        "colab": {
          "base_uri": "https://localhost:8080/"
        },
        "outputId": "0adccf6a-1fd2-4819-d29c-c47bdf1f3c2d"
      },
      "execution_count": null,
      "outputs": [
        {
          "output_type": "stream",
          "name": "stdout",
          "text": [
            "NIM: 20251001\n",
            "Nama: Andi\n",
            "Prodi: TRK\n"
          ]
        }
      ]
    },
    {
      "cell_type": "markdown",
      "source": [
        "Operasi DIctionary"
      ],
      "metadata": {
        "id": "bBeyXPXgj5bX"
      }
    },
    {
      "cell_type": "code",
      "source": [
        "mahasiswa = {\n",
        "    \"NIM\": \"20251001\",\n",
        "    \"Nama\": \"Andi\",\n",
        "    \"Prodi\": \"TRK\"\n",
        "}\n",
        "mahasiswa[\"Umur\"] = 20\n",
        "mahasiswa[\"Prodi\"] = \"Teknik Komputer\"\n",
        "del mahasiswa[\"Umur\"]\n",
        "print(mahasiswa)"
      ],
      "metadata": {
        "colab": {
          "base_uri": "https://localhost:8080/"
        },
        "id": "DCFJKi0hj8sa",
        "outputId": "208fe816-da17-433f-b753-b0b1d90ea4cb"
      },
      "execution_count": null,
      "outputs": [
        {
          "output_type": "stream",
          "name": "stdout",
          "text": [
            "{'NIM': '20251001', 'Nama': 'Andi', 'Prodi': 'Teknik Komputer'}\n"
          ]
        }
      ]
    },
    {
      "cell_type": "markdown",
      "source": [
        "Set dan Operasi Himpunan"
      ],
      "metadata": {
        "id": "rZgTuBiasQes"
      }
    },
    {
      "cell_type": "code",
      "source": [
        "A = {1,2,3,4}\n",
        "B = {3,4,5,6}\n",
        "print(\"Union:\", A | B)\n",
        "print(\"Intersection:\", A & B)\n",
        "print(\"Difference:\", A - B)"
      ],
      "metadata": {
        "colab": {
          "base_uri": "https://localhost:8080/"
        },
        "id": "zYqvdxSksT54",
        "outputId": "68819db6-7328-40ad-f935-f28c63a7d963"
      },
      "execution_count": null,
      "outputs": [
        {
          "output_type": "stream",
          "name": "stdout",
          "text": [
            "Union: {1, 2, 3, 4, 5, 6}\n",
            "Intersection: {3, 4}\n",
            "Difference: {1, 2}\n"
          ]
        }
      ]
    },
    {
      "cell_type": "markdown",
      "source": [
        "Studi Kasus: Data Mahasiswa dan Mata Kuliah"
      ],
      "metadata": {
        "id": "4ntncfsqsva1"
      }
    },
    {
      "cell_type": "code",
      "source": [
        "mhs1 = {\"Algoritma\",\"Matematika\",\"Bahasa Inggris\"}\n",
        "mhs2 = {\"Algoritma\",\"Basis Data\",\"Matematika\"}\n",
        "print(\"Mata kuliah Mhs1:\", mhs1)\n",
        "print(\"Mata kuliah Mhs2:\", mhs2)\n",
        "print(\"Mata kuliah yang sama:\", mhs1 & mhs2)"
      ],
      "metadata": {
        "colab": {
          "base_uri": "https://localhost:8080/"
        },
        "id": "ZNRpnAsZs-Ix",
        "outputId": "b3d28b4f-a4eb-46a2-c574-7e69515c6bea"
      },
      "execution_count": null,
      "outputs": [
        {
          "output_type": "stream",
          "name": "stdout",
          "text": [
            "Mata kuliah Mhs1: {'Bahasa Inggris', 'Matematika', 'Algoritma'}\n",
            "Mata kuliah Mhs2: {'Matematika', 'Algoritma', 'Basis Data'}\n",
            "Mata kuliah yang sama: {'Matematika', 'Algoritma'}\n"
          ]
        }
      ]
    },
    {
      "cell_type": "markdown",
      "source": [
        "Studi Kasus Dictionary: Daftar Nilai Mahasiswa"
      ],
      "metadata": {
        "id": "a-aKdYl4tnyX"
      }
    },
    {
      "cell_type": "code",
      "source": [
        "nilai_mahasiswa = {\n",
        "    \"Andi\": 80,\n",
        "    \"Budi\":75,\n",
        "    \"Cici\":90\n",
        "}\n",
        "for nama, nilai in nilai_mahasiswa.items():\n",
        "  print(f\"{nama}: {nilai}\")\n",
        "rata = sum(nilai_mahasiswa.values()) / len(nilai_mahasiswa)\n",
        "print(f\"Rata-rata nilai: {rata:.2f}\")"
      ],
      "metadata": {
        "colab": {
          "base_uri": "https://localhost:8080/"
        },
        "id": "FdBr0vJwyOV0",
        "outputId": "08375ddf-75cc-4290-fe09-ea1577bc4cf6"
      },
      "execution_count": null,
      "outputs": [
        {
          "output_type": "stream",
          "name": "stdout",
          "text": [
            "Andi: 80\n",
            "Budi: 75\n",
            "Cici: 90\n",
            "Rata-rata nilai: 81.67\n"
          ]
        }
      ]
    },
    {
      "cell_type": "markdown",
      "source": [
        "Penugasan"
      ],
      "metadata": {
        "id": "fJh7Mi_My3XC"
      }
    },
    {
      "cell_type": "markdown",
      "source": [
        "Tuple Sederhana"
      ],
      "metadata": {
        "id": "Su-AsU9Ry5Ug"
      }
    },
    {
      "cell_type": "code",
      "source": [
        "data_mahasiswa = (\"Andi\", 20, \"Teknik Komputer\")\n",
        "print(\"Nama :\", data_mahasiswa[0])\n",
        "print(\"Umur :\", data_mahasiswa[1])\n",
        "print(\"Prodi :\", data_mahasiswa[2])"
      ],
      "metadata": {
        "id": "KRyTC3tmy8LE",
        "colab": {
          "base_uri": "https://localhost:8080/"
        },
        "outputId": "aaf23b2d-5e17-4024-fa58-9061e429eb30"
      },
      "execution_count": 1,
      "outputs": [
        {
          "output_type": "stream",
          "name": "stdout",
          "text": [
            "Nama : Andi\n",
            "Umur : 20\n",
            "Prodi : Teknik Komputer\n"
          ]
        }
      ]
    },
    {
      "cell_type": "markdown",
      "source": [
        "Tuple Tidak Bisa Dirubah"
      ],
      "metadata": {
        "id": "qpmksw4FGwvv"
      }
    },
    {
      "cell_type": "code",
      "source": [
        "data = (1,2,3)\n",
        "try:\n",
        "  data[0] = 10\n",
        "except TypeError as e:\n",
        "  print(\"Error terjadi:\", e)\n",
        "  print(\"Penjalasan: Tuple bersifat immutable, elemen tidak bisa diubah\")"
      ],
      "metadata": {
        "colab": {
          "base_uri": "https://localhost:8080/"
        },
        "id": "f61VvsmoG1tr",
        "outputId": "ae8faee7-ecef-4aa5-e264-fd28927af386"
      },
      "execution_count": 2,
      "outputs": [
        {
          "output_type": "stream",
          "name": "stdout",
          "text": [
            "Error terjadi: 'tuple' object does not support item assignment\n",
            "Penjalasan: Tuple bersifat immutable, elemen tidak bisa diubah\n"
          ]
        }
      ]
    },
    {
      "cell_type": "markdown",
      "source": [
        "Dictionary Dasar"
      ],
      "metadata": {
        "id": "dfIwOTR6HTKu"
      }
    },
    {
      "cell_type": "code",
      "source": [
        "buku = {\n",
        "    \"Judul\": \"Algoritma\",\n",
        "    \"Penulis\": \"Munir\",\n",
        "    \"Tahun\": 2021\n",
        "}\n",
        "print(\"Judul :\", buku[\"Judul\"])\n",
        "print(\"Penulis :\", buku[\"Penulis\"])\n",
        "print(\"Tahun :\", buku[\"Tahun\"])"
      ],
      "metadata": {
        "colab": {
          "base_uri": "https://localhost:8080/"
        },
        "id": "dfh5NOjSHWJC",
        "outputId": "047c8511-726a-4fda-e21e-c96a5ea6deec"
      },
      "execution_count": 3,
      "outputs": [
        {
          "output_type": "stream",
          "name": "stdout",
          "text": [
            "Judul : Algoritma\n",
            "Penulis : Munir\n",
            "Tahun : 2021\n"
          ]
        }
      ]
    },
    {
      "cell_type": "markdown",
      "source": [
        "Operasi Dictionary"
      ],
      "metadata": {
        "id": "-FGqUxJtIJA3"
      }
    },
    {
      "cell_type": "code",
      "source": [
        "dosen = {\n",
        "    \"NIP\": \"12345\",\n",
        "    \"Nama\": \"Budi\",\n",
        "    \"Prodi\": \"TRK\"\n",
        "}\n",
        "dosen[\"Umur\"] = 40\n",
        "dosen[\"Prodi\"] = \"Teknik Komputer\"\n",
        "del dosen[\"Umur\"]\n",
        "print(\"Data Dosen Akhir:\",dosen)"
      ],
      "metadata": {
        "colab": {
          "base_uri": "https://localhost:8080/"
        },
        "id": "nPltBcMnIL64",
        "outputId": "74aebe1c-19d8-4246-d811-dbcc8b1d5a9e"
      },
      "execution_count": 4,
      "outputs": [
        {
          "output_type": "stream",
          "name": "stdout",
          "text": [
            "Data Dosen Akhir: {'NIP': '12345', 'Nama': 'Budi', 'Prodi': 'Teknik Komputer'}\n"
          ]
        }
      ]
    },
    {
      "cell_type": "markdown",
      "source": [
        "Set dan Himpunan"
      ],
      "metadata": {
        "id": "9K54ptb4I4xl"
      }
    },
    {
      "cell_type": "code",
      "source": [
        "A = {\"Matematika\", \"Algoritma\", \"Bahasa Inggris\"}\n",
        "B = {\"Algoritma\",\"Basis Data\", \"Matematika\"}\n",
        "print(\"Union(Gabungan):\", A | B)\n",
        "print(\"Intersection(Irisan):\", A & B)\n",
        "print(\"Dfference(Selisih A-B)\", A - B)"
      ],
      "metadata": {
        "colab": {
          "base_uri": "https://localhost:8080/"
        },
        "id": "gZMI1aJyJAUw",
        "outputId": "7bc5c74f-8edf-425c-d3e2-5312025da324"
      },
      "execution_count": 5,
      "outputs": [
        {
          "output_type": "stream",
          "name": "stdout",
          "text": [
            "Union(Gabungan): {'Matematika', 'Bahasa Inggris', 'Algoritma', 'Basis Data'}\n",
            "Intersection(Irisan): {'Algoritma', 'Matematika'}\n",
            "Dfference(Selisih A-B) {'Bahasa Inggris'}\n"
          ]
        }
      ]
    },
    {
      "cell_type": "markdown",
      "source": [
        "Studi Kasus Dictionary"
      ],
      "metadata": {
        "id": "I7VpJBwCJiqu"
      }
    },
    {
      "cell_type": "code",
      "source": [
        "nilai_mahasiswa = {\n",
        "    \"Andi\": 85,\n",
        "    \"Budi\": 90,\n",
        "    \"Cici\": 78\n",
        "}\n",
        "print(\"Daftar Nilai Mahasiswa:\")\n",
        "for nama, nilai in nilai_mahasiswa.items():\n",
        "  print(f\"{nama}: {nilai}\")\n",
        "rata = sum(nilai_mahasiswa.values()) / len(nilai_mahasiswa)\n",
        "print(f\"Rata-rata nilai:{rata:.2f}\")"
      ],
      "metadata": {
        "colab": {
          "base_uri": "https://localhost:8080/"
        },
        "id": "gEuOTannJoCd",
        "outputId": "6f116dd4-22a2-49ff-9cb3-85fd4f950aa3"
      },
      "execution_count": 7,
      "outputs": [
        {
          "output_type": "stream",
          "name": "stdout",
          "text": [
            "Daftar Nilai Mahasiswa:\n",
            "Andi: 85\n",
            "Budi: 90\n",
            "Cici: 78\n",
            "Rata-rata nilai:84.33\n"
          ]
        }
      ]
    },
    {
      "cell_type": "markdown",
      "source": [
        "Studi Kasus Set-Klub Mahasiswa"
      ],
      "metadata": {
        "id": "uJFLqiYAKT-N"
      }
    },
    {
      "cell_type": "code",
      "source": [
        "klub_A = {\"Andi\", \"Budi\", \"Cici\"}\n",
        "klub_B = {\"Cici\", \"Deni\", \"Eka\"}\n",
        "print(\"Seluruh anggota (union):\", klub_A | klub_B)\n",
        "print(\"Anggota kedua klub (intersection):\", klub_A & klub_B)\n",
        "print(\"Hanya di klub A (difference):\", klub_A - klub_B)"
      ],
      "metadata": {
        "colab": {
          "base_uri": "https://localhost:8080/"
        },
        "id": "0vI46cmjKa-x",
        "outputId": "9fe18d2b-260e-42a4-c4a2-a7456bb722cc"
      },
      "execution_count": 8,
      "outputs": [
        {
          "output_type": "stream",
          "name": "stdout",
          "text": [
            "Seluruh anggota (union): {'Cici', 'Deni', 'Andi', 'Eka', 'Budi'}\n",
            "Anggota kedua klub (intersection): {'Cici'}\n",
            "Hanya di klub A (difference): {'Budi', 'Andi'}\n"
          ]
        }
      ]
    }
  ]
}