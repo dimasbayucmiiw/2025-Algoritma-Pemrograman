{
  "nbformat": 4,
  "nbformat_minor": 0,
  "metadata": {
    "colab": {
      "provenance": [],
      "authorship_tag": "ABX9TyMC37iQ2AxdI+RSqhLTbk1P",
      "include_colab_link": true
    },
    "kernelspec": {
      "name": "python3",
      "display_name": "Python 3"
    },
    "language_info": {
      "name": "python"
    }
  },
  "cells": [
    {
      "cell_type": "markdown",
      "metadata": {
        "id": "view-in-github",
        "colab_type": "text"
      },
      "source": [
        "<a href=\"https://colab.research.google.com/github/dimasbayucmiiw/2025-Algoritma-Pemrograman/blob/main/Praktikum06.ipynb\" target=\"_parent\"><img src=\"https://colab.research.google.com/assets/colab-badge.svg\" alt=\"Open In Colab\"/></a>"
      ]
    },
    {
      "cell_type": "markdown",
      "source": [
        "Praktikum"
      ],
      "metadata": {
        "id": "d3IaJo8Ibbn3"
      }
    },
    {
      "cell_type": "markdown",
      "source": [
        "Membuat dan Mengakses List ID"
      ],
      "metadata": {
        "id": "imtNZXRLSeAJ"
      }
    },
    {
      "cell_type": "code",
      "execution_count": null,
      "metadata": {
        "colab": {
          "base_uri": "https://localhost:8080/"
        },
        "id": "wxkyVDDoQdy6",
        "outputId": "d94380e0-ed13-40d3-bb5a-ea400b049a23"
      },
      "outputs": [
        {
          "output_type": "stream",
          "name": "stdout",
          "text": [
            "Andi\n",
            "Budi\n",
            "Cici\n"
          ]
        }
      ],
      "source": [
        "mahasiswa = [\"Andi\",\"Budi\",\"Cici\"]\n",
        "print(mahasiswa[0])\n",
        "print(mahasiswa[1])\n",
        "print(mahasiswa[-1])"
      ]
    },
    {
      "cell_type": "markdown",
      "source": [
        "Update & Operasi Dasar List"
      ],
      "metadata": {
        "id": "q9CmiwMgW5rJ"
      }
    },
    {
      "cell_type": "code",
      "source": [
        "nilai = [85,90,78]\n",
        "nilai[1] = 95\n",
        "nilai.append(100)\n",
        "nilai.remove(78)\n",
        "print(nilai)"
      ],
      "metadata": {
        "colab": {
          "base_uri": "https://localhost:8080/"
        },
        "id": "OsIqHjq6XCWE",
        "outputId": "cbd5eaec-e12e-4b5a-9381-51a37d9c84f0"
      },
      "execution_count": null,
      "outputs": [
        {
          "output_type": "stream",
          "name": "stdout",
          "text": [
            "[85, 95, 100]\n"
          ]
        }
      ]
    },
    {
      "cell_type": "markdown",
      "source": [
        "SLicing List"
      ],
      "metadata": {
        "id": "5cZagamzaAQf"
      }
    },
    {
      "cell_type": "code",
      "source": [
        "nilai = [85,90,78,92,88]\n",
        "print(nilai[0:3])\n",
        "print(nilai[2:])\n",
        "print(nilai[:3])"
      ],
      "metadata": {
        "colab": {
          "base_uri": "https://localhost:8080/"
        },
        "id": "ui8yRlTzaCih",
        "outputId": "6053b1fc-f329-4f5e-96bc-6f4a4959ec45"
      },
      "execution_count": null,
      "outputs": [
        {
          "output_type": "stream",
          "name": "stdout",
          "text": [
            "[85, 90, 78]\n",
            "[78, 92, 88]\n",
            "[85, 90, 78]\n"
          ]
        }
      ]
    },
    {
      "cell_type": "markdown",
      "source": [
        "List 2D (Matriks)"
      ],
      "metadata": {
        "id": "Yn655IpNbSEA"
      }
    },
    {
      "cell_type": "code",
      "source": [
        "matriks = [\n",
        "    [1,2,3],\n",
        "    [4,5,6],\n",
        "    [7,8,9]\n",
        "]\n",
        "print(matriks[0][0])\n",
        "print(matriks[1][2])\n",
        "print(matriks[2])"
      ],
      "metadata": {
        "colab": {
          "base_uri": "https://localhost:8080/"
        },
        "id": "CJ2c-OQubWJ3",
        "outputId": "9a4e8719-5bb9-4e2e-987d-3f73a0911618"
      },
      "execution_count": null,
      "outputs": [
        {
          "output_type": "stream",
          "name": "stdout",
          "text": [
            "1\n",
            "6\n",
            "[7, 8, 9]\n"
          ]
        }
      ]
    },
    {
      "cell_type": "markdown",
      "source": [
        "Operasi pada List 2D"
      ],
      "metadata": {
        "id": "17yLaLSBcDaB"
      }
    },
    {
      "cell_type": "code",
      "source": [
        "A = [[1, 2, 3], [4, 5, 6]]\n",
        "B = [[7, 8, 9], [10, 11, 12]]\n",
        "C = []\n",
        "for i in range(len(A)):\n",
        "    baris = []\n",
        "    for j in range(len(A[0])):\n",
        "        baris.append(A[i][j] + B[i][j])\n",
        "    C.append(baris)\n",
        "print(C)"
      ],
      "metadata": {
        "colab": {
          "base_uri": "https://localhost:8080/"
        },
        "id": "EtqGG7DweagX",
        "outputId": "2a4a9bd8-0b61-4637-c57b-d224f09777c7"
      },
      "execution_count": 18,
      "outputs": [
        {
          "output_type": "stream",
          "name": "stdout",
          "text": [
            "[[8, 10, 12], [14, 16, 18]]\n"
          ]
        }
      ]
    },
    {
      "cell_type": "markdown",
      "source": [
        "Studi Kasus: Pengelolaan Nilai Mahasiswa"
      ],
      "metadata": {
        "id": "GsW1jvr3ctlp"
      }
    },
    {
      "cell_type": "code",
      "source": [
        "nilai = [\n",
        "    [80,90,85],\n",
        "    [70,75,80],\n",
        "    [88,92,84]\n",
        "]\n",
        "for i, baris in enumerate(nilai,start=1):\n",
        "  rata = sum(baris) / len(baris)\n",
        "  print(f\"Rata-rata mahasiswa {i}: {rata:.2f}\")"
      ],
      "metadata": {
        "colab": {
          "base_uri": "https://localhost:8080/"
        },
        "id": "U9JhY3Y_cz8S",
        "outputId": "56a3b379-8910-42b5-e529-46cfa9e060ff"
      },
      "execution_count": null,
      "outputs": [
        {
          "output_type": "stream",
          "name": "stdout",
          "text": [
            "Rata-rata mahasiswa 1: 85.00\n",
            "Rata-rata mahasiswa 2: 75.00\n",
            "Rata-rata mahasiswa 3: 88.00\n"
          ]
        }
      ]
    },
    {
      "cell_type": "markdown",
      "source": [
        "Penugasan"
      ],
      "metadata": {
        "id": "qK5ERAM6i2aM"
      }
    },
    {
      "cell_type": "markdown",
      "source": [
        "Akses Elemen List"
      ],
      "metadata": {
        "id": "-4Zxpum2i6cB"
      }
    },
    {
      "cell_type": "code",
      "source": [
        "mahasiswa = [\"Andi\", \"Budi\", \"Cici\", \"Dewi\", \"Eka\"]\n",
        "print(\"Nama pertama:\", mahasiswa[0])\n",
        "print(\"Nama terakhir:\", mahasiswa[-1])\n",
        "print(\"Nama pada indeks ke-2:\", mahasiswa[2])"
      ],
      "metadata": {
        "colab": {
          "base_uri": "https://localhost:8080/"
        },
        "id": "Xnrs6y6Oi5gd",
        "outputId": "835dfbee-a994-4f90-fabc-26b282cc51c7"
      },
      "execution_count": 1,
      "outputs": [
        {
          "output_type": "stream",
          "name": "stdout",
          "text": [
            "Nama pertama: Andi\n",
            "Nama terakhir: Eka\n",
            "Nama pada indeks ke-2: Cici\n"
          ]
        }
      ]
    },
    {
      "cell_type": "markdown",
      "source": [
        "Operasi Dasar List"
      ],
      "metadata": {
        "id": "h2yJyddBm7h8"
      }
    },
    {
      "cell_type": "code",
      "source": [
        "nilai = [70, 75, 80]\n",
        "nilai[1] = 85\n",
        "nilai.append(90)\n",
        "nilai.remove(70)\n",
        "print(\"Hasil akhir:\", nilai)"
      ],
      "metadata": {
        "colab": {
          "base_uri": "https://localhost:8080/"
        },
        "id": "6ArQ9oYfm_K9",
        "outputId": "311e4a0a-ba86-4f35-c5cb-7f7aba22de50"
      },
      "execution_count": 2,
      "outputs": [
        {
          "output_type": "stream",
          "name": "stdout",
          "text": [
            "Hasil akhir: [85, 80, 90]\n"
          ]
        }
      ]
    },
    {
      "cell_type": "markdown",
      "source": [
        "Slicing List"
      ],
      "metadata": {
        "id": "FfUPxugHnIWu"
      }
    },
    {
      "cell_type": "code",
      "source": [
        "angka = [1,2,3,4,5,6,7,8,9,10]\n",
        "print(\"3 elemen pertama:\", angka[:3])\n",
        "print(\"4 elemen terakhir:\", angka[-4:])\n",
        "print(\"Indeks gennap saja:\", angka[::2])"
      ],
      "metadata": {
        "colab": {
          "base_uri": "https://localhost:8080/"
        },
        "id": "n3v9SuS0nLiR",
        "outputId": "dce59809-ae15-41c0-ca2f-6598af3f50bc"
      },
      "execution_count": 3,
      "outputs": [
        {
          "output_type": "stream",
          "name": "stdout",
          "text": [
            "3 elemen pertama: [1, 2, 3]\n",
            "4 elemen terakhir: [7, 8, 9, 10]\n",
            "Indeks gennap saja: [1, 3, 5, 7, 9]\n"
          ]
        }
      ]
    },
    {
      "cell_type": "markdown",
      "source": [
        "List 2D-Matriks"
      ],
      "metadata": {
        "id": "hrxXTVc9npu4"
      }
    },
    {
      "cell_type": "code",
      "source": [
        "matriks = [\n",
        "    [1,2,3],\n",
        "    [4,5,6],\n",
        "]\n",
        "print(\"Baris pertama kolom kedua:\", matriks[0][1])\n",
        "print(\"Baris kedua kolom ketiga:\", matriks[1][2])\n",
        "print(\"Seluruh baris pertama:\", matriks[0])"
      ],
      "metadata": {
        "colab": {
          "base_uri": "https://localhost:8080/"
        },
        "id": "5ddeqxX5nuBN",
        "outputId": "a8d8df55-f81a-4808-ea03-3f2d7b76a4f4"
      },
      "execution_count": 4,
      "outputs": [
        {
          "output_type": "stream",
          "name": "stdout",
          "text": [
            "Baris pertama kolom kedua: 2\n",
            "Baris kedua kolom ketiga: 6\n",
            "Seluruh baris pertama: [1, 2, 3]\n"
          ]
        }
      ]
    },
    {
      "cell_type": "markdown",
      "source": [
        "Operasi Matriks 2D"
      ],
      "metadata": {
        "id": "A2yEakWiobPd"
      }
    },
    {
      "cell_type": "code",
      "source": [
        "A = [[1,2],[3,4]]\n",
        "B = [[5,6],[7,8]]\n",
        "C = []\n",
        "for i in range(len(A)):\n",
        "  baris = []\n",
        "  for j in range(len(A[0])):\n",
        "    baris.append(A[i][j] + B[i][j])\n",
        "  C.append(baris)\n",
        "print(\"Hasil penjumlahan:\", C)"
      ],
      "metadata": {
        "colab": {
          "base_uri": "https://localhost:8080/"
        },
        "id": "o9dq31H8oeIg",
        "outputId": "92faaaa0-acdc-4cb8-bbf9-39527739e1bd"
      },
      "execution_count": 5,
      "outputs": [
        {
          "output_type": "stream",
          "name": "stdout",
          "text": [
            "Hasil penjumlahan: [[6, 8], [10, 12]]\n"
          ]
        }
      ]
    },
    {
      "cell_type": "markdown",
      "source": [
        "Rata-Rata Nilai Mahasiswa"
      ],
      "metadata": {
        "id": "1FWMPb2apG7U"
      }
    },
    {
      "cell_type": "code",
      "source": [
        "nilai = [[75,80,85],[60,70,65],[90,95,92]]\n",
        "for i, baris in enumerate(nilai, start=1):\n",
        "  rata = sum(baris) / len(baris)\n",
        "  print(f\"Rata-rata mahasiswa {i}: {rata:.2f}\")"
      ],
      "metadata": {
        "colab": {
          "base_uri": "https://localhost:8080/"
        },
        "id": "OvpFSHyQpKA6",
        "outputId": "267b3a3c-e6d5-4c40-bcae-7a47ab61ba64"
      },
      "execution_count": 6,
      "outputs": [
        {
          "output_type": "stream",
          "name": "stdout",
          "text": [
            "Rata-rata mahasiswa 1: 80.00\n",
            "Rata-rata mahasiswa 2: 65.00\n",
            "Rata-rata mahasiswa 3: 92.33\n"
          ]
        }
      ]
    },
    {
      "cell_type": "markdown",
      "source": [
        "Studi Kasus-Data toko"
      ],
      "metadata": {
        "id": "y-lvwXRCpwj7"
      }
    },
    {
      "cell_type": "code",
      "source": [
        "stok = [[\"Buku\", 20],[\"Pulpen\", 35],[\"Penghapus\", 15]]\n",
        "print(\"Daftar stok barang:\")\n",
        "for barang in stok:\n",
        "  print(f\"{barang[0]}: {barang[1]}\")\n",
        "terbanyak = max(stok, key=lambda x: x[1])\n",
        "print(f\"Barang dengan stok terbanyak: {terbanyak[0]}({terbanyak[1]})\")"
      ],
      "metadata": {
        "colab": {
          "base_uri": "https://localhost:8080/"
        },
        "id": "QdaNAJ6TpzoY",
        "outputId": "f9311a0f-9fa4-44ca-e659-9472d6f2cb37"
      },
      "execution_count": 7,
      "outputs": [
        {
          "output_type": "stream",
          "name": "stdout",
          "text": [
            "Daftar stok barang:\n",
            "Buku: 20\n",
            "Pulpen: 35\n",
            "Penghapus: 15\n",
            "Barang dengan stok terbanyak: Pulpen(35)\n"
          ]
        }
      ]
    }
  ]
}