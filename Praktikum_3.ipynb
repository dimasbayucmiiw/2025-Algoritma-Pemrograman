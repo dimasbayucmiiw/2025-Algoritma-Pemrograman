{
  "nbformat": 4,
  "nbformat_minor": 0,
  "metadata": {
    "colab": {
      "provenance": [],
      "authorship_tag": "ABX9TyOn0cd5Wo8oB8CjNmuowLbU",
      "include_colab_link": true
    },
    "kernelspec": {
      "name": "python3",
      "display_name": "Python 3"
    },
    "language_info": {
      "name": "python"
    }
  },
  "cells": [
    {
      "cell_type": "markdown",
      "metadata": {
        "id": "view-in-github",
        "colab_type": "text"
      },
      "source": [
        "<a href=\"https://colab.research.google.com/github/dimasbayucmiiw/2025-Algoritma-Pemrograman/blob/main/Praktikum_3.ipynb\" target=\"_parent\"><img src=\"https://colab.research.google.com/assets/colab-badge.svg\" alt=\"Open In Colab\"/></a>"
      ]
    },
    {
      "cell_type": "markdown",
      "source": [
        "Praktikum"
      ],
      "metadata": {
        "id": "Sh_ZbV7rhlwO"
      }
    },
    {
      "cell_type": "markdown",
      "source": [
        "If Sederhana"
      ],
      "metadata": {
        "id": "XerhDXe_h3Ti"
      }
    },
    {
      "cell_type": "code",
      "execution_count": null,
      "metadata": {
        "id": "vgU6TTxO9M8M",
        "colab": {
          "base_uri": "https://localhost:8080/"
        },
        "outputId": "f862e84d-cb11-44ff-d9df-ceebff1a95ed"
      },
      "outputs": [
        {
          "output_type": "stream",
          "name": "stdout",
          "text": [
            "Masukkan nilai ujian:70\n",
            "Anda LULUS\n"
          ]
        }
      ],
      "source": [
        "nilai = int(input(\"Masukkan nilai ujian:\"))\n",
        "if nilai >= 60:\n",
        "  print(\"Anda LULUS\")"
      ]
    },
    {
      "cell_type": "markdown",
      "source": [
        "If-Else"
      ],
      "metadata": {
        "id": "R_a-EgbriNEY"
      }
    },
    {
      "cell_type": "code",
      "source": [
        "nilai = int(input(\"Masukkan nilai ujian:\"))\n",
        "if nilai >= 60:\n",
        "  print(\"Anda LULUS\")\n",
        "else:\n",
        "  print(\"Anda TIDAK LULUS\")"
      ],
      "metadata": {
        "colab": {
          "base_uri": "https://localhost:8080/"
        },
        "id": "H0oJezRCiPmP",
        "outputId": "5c52adcb-6c45-4db3-b8de-bd0ec4775158"
      },
      "execution_count": null,
      "outputs": [
        {
          "output_type": "stream",
          "name": "stdout",
          "text": [
            "Masukkan nilai ujian:50\n",
            "Anda TIDAK LULUS\n"
          ]
        }
      ]
    },
    {
      "cell_type": "markdown",
      "source": [
        "IF-Elif-Else (Grade)"
      ],
      "metadata": {
        "id": "kOHcwKDXipTN"
      }
    },
    {
      "cell_type": "code",
      "source": [
        "nilai = int(input(\"Masukkan nilai akhir:\"))\n",
        "if nilai >= 85:\n",
        "  grade = \"A\"\n",
        "elif nilai >= 70:\n",
        "  grade = \"B\"\n",
        "elif nilai >= 50:\n",
        "  grade = \"C\"\n",
        "elif nilai >= 40:\n",
        "  grade = \"D\"\n",
        "else:\n",
        "  grade = \"E\"\n",
        "print(f\"Nilai Anda {nilai}, maka grade Anda = {grade}\")"
      ],
      "metadata": {
        "colab": {
          "base_uri": "https://localhost:8080/"
        },
        "id": "k_no8Sepisd7",
        "outputId": "c90de92e-cb69-42c1-8744-080e6c26ba39"
      },
      "execution_count": null,
      "outputs": [
        {
          "output_type": "stream",
          "name": "stdout",
          "text": [
            "Masukkan nilai akhir:78\n",
            "Nilai Anda 78, maka grade Anda = B\n"
          ]
        }
      ]
    },
    {
      "cell_type": "markdown",
      "source": [
        "Nested If (Beasiswa)"
      ],
      "metadata": {
        "id": "obxgIxcQkAEf"
      }
    },
    {
      "cell_type": "code",
      "source": [
        "ipk = float(input(\"Masukkan IPK:\"))\n",
        "sks = int(input(\"Masukkan jumlah SKS:\"))\n",
        "if ipk >= 3.0:\n",
        "  if sks >= 18 :\n",
        "    print(\"Anda LAYAK mendapat beasiswa\")\n",
        "  else:\n",
        "    print(\"IPK memenuhi, tapi SKS kurang\")\n",
        "else:\n",
        "  print(\"Anda TIDAK layak mendapat beasiswa\")"
      ],
      "metadata": {
        "colab": {
          "base_uri": "https://localhost:8080/"
        },
        "id": "gw35U5UPkFrO",
        "outputId": "0455fa47-6a12-470f-efe9-4acde17e9879"
      },
      "execution_count": null,
      "outputs": [
        {
          "output_type": "stream",
          "name": "stdout",
          "text": [
            "Masukkan IPK:3.2\n",
            "Masukkan jumlah SKS:20\n",
            "Anda LAYAK mendapat beasiswa\n"
          ]
        }
      ]
    },
    {
      "cell_type": "markdown",
      "source": [
        "Nested If (Beasiswa,gagal SKS)"
      ],
      "metadata": {
        "id": "eK5RpdD4lKBb"
      }
    },
    {
      "cell_type": "code",
      "source": [
        "ipk = float(input(\"Masukkan IPK:\"))\n",
        "sks = int(input(\"Masukkan jumlah SKS:\"))\n",
        "if ipk >= 3.0:\n",
        "  if sks >= 18 :\n",
        "    print(\"Anda LAYAK mendapat beasiswa\")\n",
        "  else:\n",
        "    print(\"IPK memenuhi, tapi SKS kurang\")\n",
        "else:\n",
        "  print(\"Anda TIDAK layak mendapat beasiswa\")"
      ],
      "metadata": {
        "colab": {
          "base_uri": "https://localhost:8080/"
        },
        "id": "Mhb3g5zzlQJJ",
        "outputId": "31598f55-4597-421d-dd50-18aa4f4a526e"
      },
      "execution_count": null,
      "outputs": [
        {
          "output_type": "stream",
          "name": "stdout",
          "text": [
            "Masukkan IPK:3.2\n",
            "Masukkan jumlah SKS:16\n",
            "IPK memenuhi, tapi SKS kurang\n"
          ]
        }
      ]
    },
    {
      "cell_type": "markdown",
      "source": [
        "Nested If (Beasiswa,gagal IPK)"
      ],
      "metadata": {
        "id": "R9PzFwRElV4d"
      }
    },
    {
      "cell_type": "code",
      "source": [
        "ipk = float(input(\"Masukkan IPK:\"))\n",
        "sks = int(input(\"Masukkan jumlah SKS:\"))\n",
        "if ipk >= 3.0:\n",
        "  if sks >= 18 :\n",
        "    print(\"Anda LAYAK mendapat beasiswa\")\n",
        "  else:\n",
        "    print(\"IPK memenuhi, tapi SKS kurang\")\n",
        "else:\n",
        "  print(\"Anda TIDAK layak mendapat beasiswa\")"
      ],
      "metadata": {
        "colab": {
          "base_uri": "https://localhost:8080/"
        },
        "id": "SBrFgpwHlbUy",
        "outputId": "6e47b510-8d00-427e-9a91-fd136b13e23c"
      },
      "execution_count": null,
      "outputs": [
        {
          "output_type": "stream",
          "name": "stdout",
          "text": [
            "Masukkan IPK:2.8\n",
            "Masukkan jumlah SKS:20\n",
            "Anda TIDAK layak mendapat beasiswa\n"
          ]
        }
      ]
    },
    {
      "cell_type": "markdown",
      "source": [
        "Match-Case"
      ],
      "metadata": {
        "id": "Yp-YzxwLlepd"
      }
    },
    {
      "cell_type": "code",
      "source": [
        "menu = int(input(\"Pilih menu (1-3):\"))\n",
        "match menu:\n",
        "  case 1:\n",
        "    print(\"Anda memilih Nasi Goreng\")\n",
        "  case 2:\n",
        "    print(\"Anda memilih Mie Ayam\")\n",
        "  case 3:\n",
        "    print(\"Anda memilih Soto Ayam\")\n",
        "  case _:\n",
        "    print(\"Menu tidak tersedia\")"
      ],
      "metadata": {
        "colab": {
          "base_uri": "https://localhost:8080/"
        },
        "id": "Rj8M3ZMJlhV8",
        "outputId": "db67fa31-91e9-4c8c-f496-23a796026d01"
      },
      "execution_count": null,
      "outputs": [
        {
          "output_type": "stream",
          "name": "stdout",
          "text": [
            "Pilih menu (1-3):2\n",
            "Anda memilih Mie Ayam\n"
          ]
        }
      ]
    },
    {
      "cell_type": "markdown",
      "source": [
        "Match-Case (salah input)"
      ],
      "metadata": {
        "id": "QyM0SJsumFEV"
      }
    },
    {
      "cell_type": "code",
      "source": [
        "menu = int(input(\"Pilih menu (1-3):\"))\n",
        "match menu:\n",
        "  case 1:\n",
        "    print(\"Anda memilih Nasi Goreng\")\n",
        "  case 2:\n",
        "    print(\"Anda memilih Mie Ayam\")\n",
        "  case 3:\n",
        "    print(\"Anda memilih Soto Ayam\")\n",
        "  case _:\n",
        "    print(\"Menu tidak tersedia\")"
      ],
      "metadata": {
        "colab": {
          "base_uri": "https://localhost:8080/"
        },
        "id": "4vdF4Qs-mJk3",
        "outputId": "53846a94-7517-4d6d-db7b-715b24ce611f"
      },
      "execution_count": null,
      "outputs": [
        {
          "output_type": "stream",
          "name": "stdout",
          "text": [
            "Pilih menu (1-3):9\n",
            "Menu tidak tersedia\n"
          ]
        }
      ]
    },
    {
      "cell_type": "markdown",
      "source": [
        "Program Kasir"
      ],
      "metadata": {
        "id": "BNfD9dSEmOTP"
      }
    },
    {
      "cell_type": "code",
      "source": [
        "barang = input(\"Masukkan nama barang:\")\n",
        "harga = float(input(\"Masukkan harga barang:\"))\n",
        "jumlah = int(input(\"Masukkan jumlah barang:\"))\n",
        "total = harga * jumlah\n",
        "if total >= 500000:\n",
        "  diskon = 0.2\n",
        "elif total >= 250000:\n",
        "  diskon = 0.1\n",
        "else:\n",
        "  diskon = 0\n",
        "bayar = total - (total * diskon)\n",
        "print(\"\\n===== Struk Belanja =====\")\n",
        "print(f\"Barang : {barang}\")\n",
        "print(f\"Jumlah : {jumlah}\")\n",
        "print(f\"Total : Rp {total}\")\n",
        "print(f\"Diskon : {diskon * 100}%\")\n",
        "print(f\"Bayar : Rp {bayar}\")"
      ],
      "metadata": {
        "colab": {
          "base_uri": "https://localhost:8080/"
        },
        "id": "Dg_BmpJsmQwo",
        "outputId": "1fa1b624-6251-4940-c0a1-a54f02860085"
      },
      "execution_count": null,
      "outputs": [
        {
          "output_type": "stream",
          "name": "stdout",
          "text": [
            "Masukkan nama barang:Buku\n",
            "Masukkan harga barang:60000\n",
            "Masukkan jumlah barang:5\n",
            "\n",
            "===== Struk Belanja =====\n",
            "Barang : Buku\n",
            "Jumlah : 5\n",
            "Total : Rp 300000.0\n",
            "Diskon : 10.0%\n",
            "Bayar : Rp 270000.0\n"
          ]
        }
      ]
    },
    {
      "cell_type": "markdown",
      "source": [
        "Program Kasir (diskon 20%)"
      ],
      "metadata": {
        "id": "FwV1RPDBoJjA"
      }
    },
    {
      "cell_type": "code",
      "source": [
        "barang = input(\"Masukkan nama barang:\")\n",
        "harga = float(input(\"Masukkan harga barang:\"))\n",
        "jumlah = int(input(\"Masukkan jumlah barang:\"))\n",
        "total = harga * jumlah\n",
        "if total >= 500000:\n",
        "  diskon = 0.2\n",
        "elif total >= 250000:\n",
        "  diskon = 0.1\n",
        "else:\n",
        "  diskon = 0\n",
        "bayar = total - (total * diskon)\n",
        "print(\"\\n===== Struk Belanja =====\")\n",
        "print(f\"Barang : {barang}\")\n",
        "print(f\"Jumlah : {jumlah}\")\n",
        "print(f\"Total : Rp {total}\")\n",
        "print(f\"Diskon : {diskon * 100}%\")\n",
        "print(f\"Bayar : Rp {bayar}\")"
      ],
      "metadata": {
        "colab": {
          "base_uri": "https://localhost:8080/"
        },
        "id": "KkyWAIeSoN8T",
        "outputId": "ebce5138-642d-40cf-ec12-acb57e947c9e"
      },
      "execution_count": null,
      "outputs": [
        {
          "output_type": "stream",
          "name": "stdout",
          "text": [
            "Masukkan nama barang:Tas\n",
            "Masukkan harga barang:200000\n",
            "Masukkan jumlah barang:3\n",
            "\n",
            "===== Struk Belanja =====\n",
            "Barang : Tas\n",
            "Jumlah : 3\n",
            "Total : Rp 600000.0\n",
            "Diskon : 20.0%\n",
            "Bayar : Rp 480000.0\n"
          ]
        }
      ]
    },
    {
      "cell_type": "markdown",
      "source": [
        "Program Kasir (tanpa diskon)"
      ],
      "metadata": {
        "id": "XGZ-feHaoUDl"
      }
    },
    {
      "cell_type": "code",
      "source": [
        "barang = input(\"Masukkan nama barang:\")\n",
        "harga = float(input(\"Masukkan harga barang:\"))\n",
        "jumlah = int(input(\"Masukkan jumlah barang:\"))\n",
        "total = harga * jumlah\n",
        "if total >= 500000:\n",
        "  diskon = 0.2\n",
        "elif total >= 250000:\n",
        "  diskon = 0.1\n",
        "else:\n",
        "  diskon = 0\n",
        "bayar = total - (total * diskon)\n",
        "print(\"\\n===== Struk Belanja =====\")\n",
        "print(f\"Barang : {barang}\")\n",
        "print(f\"Jumlah : {jumlah}\")\n",
        "print(f\"Total : Rp {total}\")\n",
        "print(f\"Diskon : {diskon * 100}%\")\n",
        "print(f\"Bayar : Rp {bayar}\")"
      ],
      "metadata": {
        "colab": {
          "base_uri": "https://localhost:8080/"
        },
        "id": "LWqXztF2oY-n",
        "outputId": "269dc3af-ba70-4d28-97ec-99b367940641"
      },
      "execution_count": null,
      "outputs": [
        {
          "output_type": "stream",
          "name": "stdout",
          "text": [
            "Masukkan nama barang:Pulpen\n",
            "Masukkan harga barang:5000\n",
            "Masukkan jumlah barang:10\n",
            "\n",
            "===== Struk Belanja =====\n",
            "Barang : Pulpen\n",
            "Jumlah : 10\n",
            "Total : Rp 50000.0\n",
            "Diskon : 0%\n",
            "Bayar : Rp 50000.0\n"
          ]
        }
      ]
    },
    {
      "cell_type": "markdown",
      "source": [
        "Penugasan"
      ],
      "metadata": {
        "id": "N3roITuJodvE"
      }
    },
    {
      "cell_type": "markdown",
      "source": [
        "Cek Bilangan Positif/Negatif/Nol"
      ],
      "metadata": {
        "id": "OW3mxYtUof8z"
      }
    },
    {
      "cell_type": "code",
      "source": [
        "bilangan = int(input(\"Masukkan bilangan: \"))\n",
        "\n",
        "if bilangan > 0:\n",
        "    print(\"Bilangan positif\")\n",
        "elif bilangan < 0:\n",
        "    print(\"Bilangan negatif\")\n",
        "else:\n",
        "    print(\"Bilangan nol\")"
      ],
      "metadata": {
        "id": "megFxjgjopdl",
        "colab": {
          "base_uri": "https://localhost:8080/"
        },
        "outputId": "0d3d21d3-0b00-4acb-ec2b-567d70682a56"
      },
      "execution_count": 1,
      "outputs": [
        {
          "output_type": "stream",
          "name": "stdout",
          "text": [
            "Masukkan bilangan: 5\n",
            "Bilangan positif\n"
          ]
        }
      ]
    },
    {
      "cell_type": "markdown",
      "source": [
        "Menentukan Kategori Usia"
      ],
      "metadata": {
        "id": "32dfzSB4y8Wz"
      }
    },
    {
      "cell_type": "code",
      "source": [
        "umur = int(input(\"Masukkan umur: \"))\n",
        "\n",
        "if umur < 5:\n",
        "    print(\"Kategori: Balita\")\n",
        "elif umur <= 11:\n",
        "    print(\"Kategori: Anak-anak\")\n",
        "elif umur <= 17:\n",
        "    print(\"Kategori: Remaja\")\n",
        "elif umur <= 59:\n",
        "    print(\"Kategori: Dewasa\")\n",
        "else:\n",
        "    print(\"Kategori: Lansia\")"
      ],
      "metadata": {
        "colab": {
          "base_uri": "https://localhost:8080/"
        },
        "id": "SRHBmBIhzAhb",
        "outputId": "624a2a44-0032-4930-9d0b-2e812f698af8"
      },
      "execution_count": 2,
      "outputs": [
        {
          "output_type": "stream",
          "name": "stdout",
          "text": [
            "Masukkan umur: 20\n",
            "Kategori: Dewasa\n"
          ]
        }
      ]
    },
    {
      "cell_type": "markdown",
      "source": [
        "Hitung Tarif Parkir"
      ],
      "metadata": {
        "id": "UHRYLhdRzLKg"
      }
    },
    {
      "cell_type": "code",
      "source": [
        "jam = int(input(\"Masukkan lama parkir (jam): \"))\n",
        "\n",
        "if jam <= 2:\n",
        "    tarif = 5000\n",
        "else:\n",
        "    tarif = 5000 + (jam - 2) * 2000\n",
        "\n",
        "if tarif > 20000:\n",
        "    tarif = 20000\n",
        "\n",
        "print(f\"Tarif parkir: Rp {tarif}\")"
      ],
      "metadata": {
        "colab": {
          "base_uri": "https://localhost:8080/"
        },
        "id": "aYQUABRLzPhH",
        "outputId": "d09aa79f-8248-4031-b743-490953644232"
      },
      "execution_count": 3,
      "outputs": [
        {
          "output_type": "stream",
          "name": "stdout",
          "text": [
            "Masukkan lama parkir (jam): 4\n",
            "Tarif parkir: Rp 9000\n"
          ]
        }
      ]
    },
    {
      "cell_type": "markdown",
      "source": [
        "Cek Login Sederhana"
      ],
      "metadata": {
        "id": "4IrYr7hJzYAO"
      }
    },
    {
      "cell_type": "code",
      "source": [
        "username = input(\"Masukkan username: \")\n",
        "password = input(\"Masukkan password: \")\n",
        "\n",
        "if username == \"admin\" and password == \"1234\":\n",
        "    print(\"Login berhasil\")\n",
        "else:\n",
        "    print(\"Login gagal\")"
      ],
      "metadata": {
        "colab": {
          "base_uri": "https://localhost:8080/"
        },
        "id": "ibyWqK_Vzcgz",
        "outputId": "e5a05ed1-4df1-436e-b8c7-8af33f268629"
      },
      "execution_count": 4,
      "outputs": [
        {
          "output_type": "stream",
          "name": "stdout",
          "text": [
            "Masukkan username: admin\n",
            "Masukkan password: 1234\n",
            "Login berhasil\n"
          ]
        }
      ]
    },
    {
      "cell_type": "markdown",
      "source": [
        "One-Liner If (Cek Genap/Ganjil)"
      ],
      "metadata": {
        "id": "7G45Htiszjuq"
      }
    },
    {
      "cell_type": "code",
      "source": [
        "bil = int(input(\"Masukkan bilangan: \"))\n",
        "print(\"Bilangan Genap\" if bil % 2 == 0 else \"Bilangan Ganjil\")"
      ],
      "metadata": {
        "colab": {
          "base_uri": "https://localhost:8080/"
        },
        "id": "GhTPSdZwzmlK",
        "outputId": "387e5988-08cd-405f-f0b2-b0a42dff4424"
      },
      "execution_count": 5,
      "outputs": [
        {
          "output_type": "stream",
          "name": "stdout",
          "text": [
            "Masukkan bilangan: 4\n",
            "Bilangan Genap\n"
          ]
        }
      ]
    },
    {
      "cell_type": "markdown",
      "source": [
        "Menu Restoran dengan Match-Case"
      ],
      "metadata": {
        "id": "Z0kmrW57zs7Z"
      }
    },
    {
      "cell_type": "code",
      "source": [
        "menu = int(input(\"Pilih menu (1-3): \"))\n",
        "\n",
        "match menu:\n",
        "    case 1:\n",
        "        print(\"Anda memilih Nasi Goreng\")\n",
        "    case 2:\n",
        "        print(\"Anda memilih Mie Ayam\")\n",
        "    case 3:\n",
        "        print(\"Anda memilih Soto Ayam\")\n",
        "    case _:\n",
        "        print(\"Menu tidak tersedia\")"
      ],
      "metadata": {
        "colab": {
          "base_uri": "https://localhost:8080/"
        },
        "id": "DXNZy-JozveE",
        "outputId": "b672a67c-efe8-4a3f-a47a-1c2518b0ac32"
      },
      "execution_count": 6,
      "outputs": [
        {
          "output_type": "stream",
          "name": "stdout",
          "text": [
            "Pilih menu (1-3): 2\n",
            "Anda memilih Mie Ayam\n"
          ]
        }
      ]
    },
    {
      "cell_type": "markdown",
      "source": [
        "Studi Kasus Nyata – Program Penentuan Diskon"
      ],
      "metadata": {
        "id": "BG3kiNkgz1LR"
      }
    },
    {
      "cell_type": "code",
      "source": [
        "barang = input(\"Masukkan nama barang: \")\n",
        "harga = float(input(\"Masukkan harga barang: \"))\n",
        "jumlah = int(input(\"Masukkan jumlah barang: \"))\n",
        "\n",
        "total = harga * jumlah\n",
        "\n",
        "if total >= 500000:\n",
        "    diskon = 0.2\n",
        "elif total >= 250000:\n",
        "    diskon = 0.1\n",
        "else:\n",
        "    diskon = 0\n",
        "\n",
        "bayar = total - (total * diskon)\n",
        "\n",
        "print(\"\\n===== Struk Belanja =====\")\n",
        "print(f\"Barang : {barang}\")\n",
        "print(f\"Jumlah : {jumlah}\")\n",
        "print(f\"Total  : Rp {total}\")\n",
        "print(f\"Diskon : {diskon*100}%\")\n",
        "print(f\"Bayar  : Rp {bayar}\")"
      ],
      "metadata": {
        "colab": {
          "base_uri": "https://localhost:8080/"
        },
        "id": "B8F6nRaQz4NX",
        "outputId": "58f22192-81a4-408e-b9cf-f021e2d86242"
      },
      "execution_count": 7,
      "outputs": [
        {
          "output_type": "stream",
          "name": "stdout",
          "text": [
            "Masukkan nama barang: Jas Hujan\n",
            "Masukkan harga barang: 10000\n",
            "Masukkan jumlah barang: 5\n",
            "\n",
            "===== Struk Belanja =====\n",
            "Barang : Jas Hujan\n",
            "Jumlah : 5\n",
            "Total  : Rp 50000.0\n",
            "Diskon : 0%\n",
            "Bayar  : Rp 50000.0\n"
          ]
        }
      ]
    }
  ]
}